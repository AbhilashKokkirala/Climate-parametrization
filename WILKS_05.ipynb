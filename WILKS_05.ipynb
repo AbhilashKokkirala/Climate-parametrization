{
 "cells": [
  {
   "cell_type": "markdown",
   "id": "60fa715f",
   "metadata": {},
   "source": [
    "## WILKS 2005\n",
    "\n",
    "**Effects of stochastic parametrizations in the Lorenz'96 system**"
   ]
  },
  {
   "cell_type": "markdown",
   "id": "edf68044",
   "metadata": {},
   "source": [
    "### Importing packages"
   ]
  },
  {
   "cell_type": "code",
   "execution_count": 1,
   "id": "c40c6ae3",
   "metadata": {},
   "outputs": [],
   "source": [
    "import numpy as np\n",
    "import matplotlib.pyplot as plt\n",
    "import pandas as pd\n",
    "import timeit\n",
    "from sklearn.linear_model import LinearRegression\n",
    "from numba import jit\n",
    "from sklearn.metrics import r2_score"
   ]
  },
  {
   "cell_type": "markdown",
   "id": "a9f6368d",
   "metadata": {},
   "source": [
    "### LORENZ 96 THRUTH"
   ]
  },
  {
   "cell_type": "code",
   "execution_count": 2,
   "id": "db6d7cd5",
   "metadata": {},
   "outputs": [],
   "source": [
    "@jit(nopython=True)\n",
    "def L96_eq(X,Y,h,b,c,F):\n",
    "    K = X.size\n",
    "    J = Y.size//K\n",
    "    dXdt = np.zeros(X.shape)\n",
    "    dYdt = np.zeros(Y.shape)\n",
    "    for k in range(K):\n",
    "        dXdt[k] = -X[(k-1)%K]*(X[(k-2)%K] - X[(k+1)%K]) - X[k] + F - (h*c/b)*np.sum(Y[k*J:(k+1)*J])\n",
    "    for j in range(J*K):\n",
    "        dYdt[j] = -c*b*Y[(j+1)%(K*J)]*(Y[(j+2)%(K*J)] - Y[(j-1)%(K*J)]) - c*Y[j] + (h*c/b)*X[j//J]\n",
    "            \n",
    "    return dXdt, dYdt\n",
    "#checked"
   ]
  },
  {
   "cell_type": "code",
   "execution_count": 3,
   "id": "3ff31603",
   "metadata": {},
   "outputs": [],
   "source": [
    "@jit(nopython=True)\n",
    "def L96_model(X,h,b,c,F, B):\n",
    "    K = X.size\n",
    "    dXdt = np.zeros(X.shape)\n",
    "    [b0,b1,b2,b3,b4] = B\n",
    "    for k in range(K):\n",
    "        gU = b0 + b1*X[k] + b2*X[k]**2 + b3*X[k]**3 + b4*X[k]**4\n",
    "        dXdt[k] = -X[(k-1)%K]*(X[(k-2)%K] - X[(k+1)%K]) - X[k] + F - gU\n",
    "            \n",
    "    return dXdt"
   ]
  },
  {
   "cell_type": "code",
   "execution_count": 4,
   "id": "86e1a5f8",
   "metadata": {},
   "outputs": [],
   "source": [
    "#sd standard deviation\n",
    "@jit(nopython=True)\n",
    "def L96_stochastic_model(X,h,b,c,F, B, phi, sd):\n",
    "    K = X.size\n",
    "    dXdt = np.zeros(X.shape)\n",
    "    [b0,b1,b2,b3,b4] = B\n",
    "    ek_prev = np.zeros(K)\n",
    "    for k in range(K):\n",
    "        \n",
    "        zk = np.random.randn(K)\n",
    "        \n",
    "        ek_cur = phi*ek_prev + sd*np.sqrt(1-phi**2)*zk\n",
    "        gU = b0 + b1*X[k] + b2*X[k]**2 + b3*X[k]**3 + b4*X[k]**4 + ek_cur[k]\n",
    "        dXdt[k] = -X[(k-1)%K]*(X[(k-2)%K] - X[(k+1)%K]) - X[k] + F - gU\n",
    "        ek_prev = ek_cur\n",
    "            \n",
    "    return dXdt"
   ]
  },
  {
   "cell_type": "markdown",
   "id": "3f9e1393",
   "metadata": {},
   "source": [
    "### RUNGEKUTTA"
   ]
  },
  {
   "cell_type": "code",
   "execution_count": 5,
   "id": "8f58bdb1",
   "metadata": {},
   "outputs": [],
   "source": [
    "@jit(nopython=True)\n",
    "def Rk4(x_n,y_n,ts,h,b,c,F):\n",
    "    K1x, K1y = L96_eq(x_n,y_n,h,b,c,F)\n",
    "    K2x, K2y = L96_eq(x_n + K1x*ts/2, y_n + K1y*ts/2,h,b,c,F)\n",
    "    K3x, K3y = L96_eq(x_n + K2x*ts/2, y_n + K2y*ts/2,h,b,c,F)\n",
    "    K4x, K4y = L96_eq(x_n + K3x*ts, y_n + K3y*ts,h,b,c,F)\n",
    "\n",
    "    x_np1 = x_n + ts*(K1x + 2*K2x + 2*K3x + K4x)/6\n",
    "    y_np1 = y_n + ts*(K1y + 2*K2y + 2*K3y + K4y)/6\n",
    "        \n",
    "    return x_np1, y_np1"
   ]
  },
  {
   "cell_type": "code",
   "execution_count": 6,
   "id": "05223f83",
   "metadata": {},
   "outputs": [],
   "source": [
    "@jit(nopython=True)\n",
    "def Rk2(x_n,ts_model,h,b,c,F, B):\n",
    "    K1 = L96_model(x_n,h,b,c,F, B)\n",
    "    K2 = L96_model(x_n + K1*ts_model/2,h,b,c,F, B)\n",
    "\n",
    "    x_np1 = x_n + ts_model*K2\n",
    "        \n",
    "    return x_np1"
   ]
  },
  {
   "cell_type": "code",
   "execution_count": 7,
   "id": "c0288cdf",
   "metadata": {},
   "outputs": [],
   "source": [
    "@jit(nopython=True)\n",
    "def Rk4_stochastic_model(x_n,ts,h,b,c,F, B, phi, sd):\n",
    "    K1x = L96_stochastic_model(x_n,h,b,c,F, B, phi, sd)\n",
    "    K2x = L96_stochastic_model(x_n + K1x*ts/2,h,b,c,F, B, phi, sd)\n",
    "    K3x = L96_stochastic_model(x_n + K2x*ts/2,h,b,c,F, B, phi, sd)\n",
    "    K4x = L96_stochastic_model(x_n + K3x*ts,h,b,c,F, B, phi, sd)\n",
    "\n",
    "    x_np1 = x_n + ts*(K1x + 2*K2x + 2*K3x + K4x)/6\n",
    "        \n",
    "    return x_np1"
   ]
  },
  {
   "cell_type": "code",
   "execution_count": 8,
   "id": "c39f2842",
   "metadata": {},
   "outputs": [],
   "source": [
    "@jit(nopython=True)\n",
    "def Rk2_stochastic_model(x_n,ts_model,h,b,c,F, B, phi, sd):\n",
    "    K1 = L96_stochastic_model(x_n,h,b,c,F, B, phi, sd)\n",
    "    K2 = L96_stochastic_model(x_n + K1*ts_model/2,h,b,c,F, B, phi, sd)\n",
    "\n",
    "    x_np1 = x_n + ts_model*K2\n",
    "        \n",
    "    return x_np1"
   ]
  },
  {
   "cell_type": "code",
   "execution_count": 9,
   "id": "89d74a24",
   "metadata": {},
   "outputs": [],
   "source": [
    "T = 1100000000 #No of timesteps\n",
    "K = 8\n",
    "J = 32\n",
    "F = 18\n",
    "h = 1\n",
    "c = 10\n",
    "b = 10\n",
    "ts = 0.0001\n",
    "ts_model = 0.005"
   ]
  },
  {
   "cell_type": "markdown",
   "id": "95a6d57c",
   "metadata": {},
   "source": [
    "### Integrating the model"
   ]
  },
  {
   "cell_type": "code",
   "execution_count": 10,
   "id": "239e5350",
   "metadata": {
    "scrolled": false
   },
   "outputs": [],
   "source": [
    "@jit\n",
    "def L96_integrate(T,K,J,ts,h,b,c,F):\n",
    "    X_arr = np.zeros([T//50, K])\n",
    "    \n",
    "    print('alloted memory for X_arr')\n",
    "\n",
    "    np.random.seed(0)\n",
    "    X_in = np.random.random(K)\n",
    "    Y_in = np.random.random(J*K)*0.1\n",
    "\n",
    "    for j in range(T):\n",
    "        X_out, Y_out = Rk4(X_in,Y_in,ts,h,b,c,F)\n",
    "        X_in = X_out\n",
    "        Y_in = Y_out\n",
    "    \n",
    "#         if j%50 == 0:\n",
    "#             X_arr[j//50,:] = X_in\n",
    "#             if j%1000000 == 0:\n",
    "#                 print(j//1000000)\n",
    "    return X_arr"
   ]
  },
  {
   "cell_type": "code",
   "execution_count": 11,
   "id": "dd9d3b4e",
   "metadata": {},
   "outputs": [],
   "source": [
    "@jit\n",
    "def L96_integrate_model(T,K,ts_model,h,b,c,F,B):\n",
    "    X_arr_model = np.zeros([T//50, K])\n",
    "    \n",
    "    print('alloted memory for X_arr_model')\n",
    "\n",
    "    np.random.seed(0)\n",
    "    X_in = np.random.random(K)\n",
    "\n",
    "    for j in range(T//50):\n",
    "        X_out = Rk2(X_in,ts_model,h,b,c,F, B)\n",
    "        X_in = X_out      \n",
    "        X_arr_model[j,:] = X_in\n",
    "#         if j%1000000 == 0:\n",
    "#             print(j//1000000)\n",
    "\n",
    "    return X_arr_model"
   ]
  },
  {
   "cell_type": "code",
   "execution_count": 12,
   "id": "e5b581f7",
   "metadata": {},
   "outputs": [],
   "source": [
    "@jit\n",
    "def L96_integrate_stochastic_model(T,K,ts_model,h,b,c,F,B, phi, sd):\n",
    "    X_arr_model = np.zeros([T//50, K])\n",
    "    \n",
    "    print('alloted memory for X_arr_model')\n",
    "\n",
    "    np.random.seed(0)\n",
    "    X_in = np.random.random(K)\n",
    "\n",
    "    for j in range(T//50):\n",
    "        X_out = Rk2_stochastic_model(X_in,ts_model,h,b,c,F, B, phi, sd)\n",
    "        X_in = X_out      \n",
    "        X_arr_model[j,:] = X_in\n",
    "#         if j%1000000 == 0:\n",
    "#             print(j//1000000)\n",
    "\n",
    "    return X_arr_model"
   ]
  },
  {
   "cell_type": "code",
   "execution_count": 13,
   "id": "efb57ea2",
   "metadata": {},
   "outputs": [],
   "source": [
    "@jit\n",
    "def L96_Rk4_integrate_stochastic_model(T,K,ts_model,h,b,c,F,B, phi, sd):\n",
    "    X_arr_model = np.zeros([T//50, K])\n",
    "    \n",
    "    print('alloted memory for X_arr_model')\n",
    "\n",
    "    np.random.seed(0)\n",
    "    X_in = np.random.random(K)\n",
    "\n",
    "    for j in range(T//50):\n",
    "        X_out = Rk4_stochastic_model(X_in,ts_model,h,b,c,F, B, phi, sd)\n",
    "        X_in = X_out      \n",
    "        X_arr_model[j,:] = X_in\n",
    "#         if j%1000000 == 0:\n",
    "#             print(j//1000000)\n",
    "\n",
    "    return X_arr_model"
   ]
  },
  {
   "cell_type": "code",
   "execution_count": 14,
   "id": "2b669e56",
   "metadata": {
    "scrolled": false
   },
   "outputs": [],
   "source": [
    "## X_arr = L96_integrate(T,K,J,ts,h,b,c,F)"
   ]
  },
  {
   "cell_type": "code",
   "execution_count": 11,
   "id": "7fd4674f",
   "metadata": {},
   "outputs": [],
   "source": [
    "## np.savez('X_truth.npz', X_arr = X_arr)"
   ]
  },
  {
   "cell_type": "code",
   "execution_count": null,
   "id": "c6577043",
   "metadata": {},
   "outputs": [],
   "source": []
  },
  {
   "cell_type": "markdown",
   "id": "f1d6e476",
   "metadata": {},
   "source": [
    "**500 time steps/sec**"
   ]
  },
  {
   "cell_type": "markdown",
   "id": "ac0f9fea",
   "metadata": {},
   "source": [
    "### U(t) calculation"
   ]
  },
  {
   "cell_type": "code",
   "execution_count": 15,
   "id": "71b678e4",
   "metadata": {},
   "outputs": [],
   "source": [
    "with np.load(\"X_truth.npz\") as data:\n",
    "    X_arr = data['X_arr']"
   ]
  },
  {
   "cell_type": "code",
   "execution_count": 90,
   "id": "3e1f3d00",
   "metadata": {},
   "outputs": [
    {
     "data": {
      "text/plain": [
       "(22000000, 1)"
      ]
     },
     "execution_count": 90,
     "metadata": {},
     "output_type": "execute_result"
    }
   ],
   "source": [
    "s_square = np.sum(X_arr**2, axis = 1, keepdims = True)/K\n",
    "s_square.shape"
   ]
  },
  {
   "cell_type": "code",
   "execution_count": 16,
   "id": "6adc3a32",
   "metadata": {},
   "outputs": [
    {
     "data": {
      "image/png": "[encoded data removed]",
      "text/plain": [
       "<Figure size 640x480 with 1 Axes>"
      ]
     },
     "metadata": {},
     "output_type": "display_data"
    }
   ],
   "source": [
    "plt.plot(range(len(s_square)), s_square)\n",
    "plt.xlabel('time')\n",
    "plt.ylabel('Energy')\n",
    "#plt.ylim(4,14)\n",
    "plt.title('s^2 vs time when K = 8, J = 32 and F = 20, timestep = 0.0001')\n",
    "#plt.savefig('Regime_K8_J32_F20.png')\n",
    "plt.show()"
   ]
  },
  {
   "cell_type": "code",
   "execution_count": 16,
   "id": "2a2c75ae",
   "metadata": {},
   "outputs": [],
   "source": [
    "U = np.zeros([2200,K])\n",
    "X_fit = np.zeros([2200,K])\n",
    "for k in range(K):\n",
    "    for t in range(2200):\n",
    "        j = t*10000\n",
    "        X_fit[t,:] = X_arr[j,:]\n",
    "        U[t,k] = -X_arr[j,(k-1)%K]*(X_arr[j,(k-2)%K] - X_arr[j,(k+1)%K]) - X_arr[j,k] + F - (X_arr[j+1,k] - X_arr[j,k])/ts_model"
   ]
  },
  {
   "cell_type": "code",
   "execution_count": 17,
   "id": "356f3bb6",
   "metadata": {
    "scrolled": false
   },
   "outputs": [
    {
     "data": {
      "text/plain": [
       "Text(0, 0.5, 'Unresolved tendency U(t)')"
      ]
     },
     "execution_count": 17,
     "metadata": {},
     "output_type": "execute_result"
    },
    {
     "data": {
      "image/png": "[encoded data removed]",
      "text/plain": [
       "<Figure size 640x480 with 1 Axes>"
      ]
     },
     "metadata": {},
     "output_type": "display_data"
    }
   ],
   "source": [
    "plt.scatter(U[:,3], X_fit[:,3], 1)\n",
    "plt.xlabel('Resolved Variable X3')\n",
    "plt.ylabel('Unresolved tendency U(t)')\n",
    "#plt.savefig('U_vs_X3.png')"
   ]
  },
  {
   "cell_type": "markdown",
   "id": "050f6da2",
   "metadata": {},
   "source": [
    "### Polynomial fit"
   ]
  },
  {
   "cell_type": "code",
   "execution_count": 18,
   "id": "8f60996f",
   "metadata": {},
   "outputs": [],
   "source": [
    "m = 0\n",
    "n = 2200\n",
    "k = 3\n",
    "X_train = np.zeros([n - m, 4])\n",
    "X_train[:,0] = X_fit[m:n,k]\n",
    "X_train[:,1] = X_fit[m:n,k]**2\n",
    "X_train[:,2] = X_fit[m:n,k]**3\n",
    "X_train[:,3] = X_fit[m:n,k]**4\n",
    "\n",
    "Y_train = U[m:n,k]"
   ]
  },
  {
   "cell_type": "code",
   "execution_count": 19,
   "id": "3ca5ef4a",
   "metadata": {
    "scrolled": true
   },
   "outputs": [
    {
     "data": {
      "text/html": [
       "<style>#sk-container-id-1 {color: black;background-color: white;}#sk-container-id-1 pre{padding: 0;}#sk-container-id-1 div.sk-toggleable {background-color: white;}#sk-container-id-1 label.sk-toggleable__label {cursor: pointer;display: block;width: 100%;margin-bottom: 0;padding: 0.3em;box-sizing: border-box;text-align: center;}#sk-container-id-1 label.sk-toggleable__label-arrow:before {content: \"▸\";float: left;margin-right: 0.25em;color: #696969;}#sk-container-id-1 label.sk-toggleable__label-arrow:hover:before {color: black;}#sk-container-id-1 div.sk-estimator:hover label.sk-toggleable__label-arrow:before {color: black;}#sk-container-id-1 div.sk-toggleable__content {max-height: 0;max-width: 0;overflow: hidden;text-align: left;background-color: #f0f8ff;}#sk-container-id-1 div.sk-toggleable__content pre {margin: 0.2em;color: black;border-radius: 0.25em;background-color: #f0f8ff;}#sk-container-id-1 input.sk-toggleable__control:checked~div.sk-toggleable__content {max-height: 200px;max-width: 100%;overflow: auto;}#sk-container-id-1 input.sk-toggleable__control:checked~label.sk-toggleable__label-arrow:before {content: \"▾\";}#sk-container-id-1 div.sk-estimator input.sk-toggleable__control:checked~label.sk-toggleable__label {background-color: #d4ebff;}#sk-container-id-1 div.sk-label input.sk-toggleable__control:checked~label.sk-toggleable__label {background-color: #d4ebff;}#sk-container-id-1 input.sk-hidden--visually {border: 0;clip: rect(1px 1px 1px 1px);clip: rect(1px, 1px, 1px, 1px);height: 1px;margin: -1px;overflow: hidden;padding: 0;position: absolute;width: 1px;}#sk-container-id-1 div.sk-estimator {font-family: monospace;background-color: #f0f8ff;border: 1px dotted black;border-radius: 0.25em;box-sizing: border-box;margin-bottom: 0.5em;}#sk-container-id-1 div.sk-estimator:hover {background-color: #d4ebff;}#sk-container-id-1 div.sk-parallel-item::after {content: \"\";width: 100%;border-bottom: 1px solid gray;flex-grow: 1;}#sk-container-id-1 div.sk-label:hover label.sk-toggleable__label {background-color: #d4ebff;}#sk-container-id-1 div.sk-serial::before {content: \"\";position: absolute;border-left: 1px solid gray;box-sizing: border-box;top: 0;bottom: 0;left: 50%;z-index: 0;}#sk-container-id-1 div.sk-serial {display: flex;flex-direction: column;align-items: center;background-color: white;padding-right: 0.2em;padding-left: 0.2em;position: relative;}#sk-container-id-1 div.sk-item {position: relative;z-index: 1;}#sk-container-id-1 div.sk-parallel {display: flex;align-items: stretch;justify-content: center;background-color: white;position: relative;}#sk-container-id-1 div.sk-item::before, #sk-container-id-1 div.sk-parallel-item::before {content: \"\";position: absolute;border-left: 1px solid gray;box-sizing: border-box;top: 0;bottom: 0;left: 50%;z-index: -1;}#sk-container-id-1 div.sk-parallel-item {display: flex;flex-direction: column;z-index: 1;position: relative;background-color: white;}#sk-container-id-1 div.sk-parallel-item:first-child::after {align-self: flex-end;width: 50%;}#sk-container-id-1 div.sk-parallel-item:last-child::after {align-self: flex-start;width: 50%;}#sk-container-id-1 div.sk-parallel-item:only-child::after {width: 0;}#sk-container-id-1 div.sk-dashed-wrapped {border: 1px dashed gray;margin: 0 0.4em 0.5em 0.4em;box-sizing: border-box;padding-bottom: 0.4em;background-color: white;}#sk-container-id-1 div.sk-label label {font-family: monospace;font-weight: bold;display: inline-block;line-height: 1.2em;}#sk-container-id-1 div.sk-label-container {text-align: center;}#sk-container-id-1 div.sk-container {/* jupyter's `normalize.less` sets `[hidden] { display: none; }` but bootstrap.min.css set `[hidden] { display: none !important; }` so we also need the `!important` here to be able to override the default hidden behavior on the sphinx rendered scikit-learn.org. See: https://github.com/scikit-learn/scikit-learn/issues/21755 */display: inline-block !important;position: relative;}#sk-container-id-1 div.sk-text-repr-fallback {display: none;}</style><div id=\"sk-container-id-1\" class=\"sk-top-container\"><div class=\"sk-text-repr-fallback\"><pre>LinearRegression()</pre><b>In a Jupyter environment, please rerun this cell to show the HTML representation or trust the notebook. <br />On GitHub, the HTML representation is unable to render, please try loading this page with nbviewer.org.</b></div><div class=\"sk-container\" hidden><div class=\"sk-item\"><div class=\"sk-estimator sk-toggleable\"><input class=\"sk-toggleable__control sk-hidden--visually\" id=\"sk-estimator-id-1\" type=\"checkbox\" checked><label for=\"sk-estimator-id-1\" class=\"sk-toggleable__label sk-toggleable__label-arrow\">LinearRegression</label><div class=\"sk-toggleable__content\"><pre>LinearRegression()</pre></div></div></div></div></div>"
      ],
      "text/plain": [
       "LinearRegression()"
      ]
     },
     "execution_count": 19,
     "metadata": {},
     "output_type": "execute_result"
    }
   ],
   "source": [
    "reg = LinearRegression()\n",
    "reg.fit(X_train, Y_train)"
   ]
  },
  {
   "cell_type": "code",
   "execution_count": 20,
   "id": "fa8a90ca",
   "metadata": {},
   "outputs": [
    {
     "data": {
      "text/plain": [
       "(array([ 1.58561490e+00, -1.74721775e-02, -1.26824108e-02,  7.06495606e-04]),\n",
       " 0.2478317490335633)"
      ]
     },
     "execution_count": 20,
     "metadata": {},
     "output_type": "execute_result"
    }
   ],
   "source": [
    "reg.coef_, reg.intercept_"
   ]
  },
  {
   "cell_type": "code",
   "execution_count": 21,
   "id": "ca0a58a9",
   "metadata": {
    "scrolled": false
   },
   "outputs": [
    {
     "data": {
      "text/plain": [
       "0.8771757485802908"
      ]
     },
     "execution_count": 21,
     "metadata": {},
     "output_type": "execute_result"
    }
   ],
   "source": [
    "Y_pred = reg.predict(X_train)\n",
    "R2 = r2_score(Y_train, reg.predict(X_train))\n",
    "R2"
   ]
  },
  {
   "cell_type": "code",
   "execution_count": 22,
   "id": "8a0bbbc3",
   "metadata": {},
   "outputs": [],
   "source": [
    "b0 = reg.intercept_\n",
    "[b1, b2, b3, b4] = reg.coef_\n",
    "B = [b0, b1, b2, b3, b4]"
   ]
  },
  {
   "cell_type": "code",
   "execution_count": 23,
   "id": "1c473c78",
   "metadata": {},
   "outputs": [
    {
     "data": {
      "text/plain": [
       "1.6806379239237272"
      ]
     },
     "execution_count": 23,
     "metadata": {},
     "output_type": "execute_result"
    }
   ],
   "source": [
    "myu = b0 + b1*X_train[:,0] + b2*X_train[:,1] + b3*X_train[:,2]+ b4*X_train[:,3]\n",
    "sd = np.sqrt((np.sum((Y_train - myu)**2))/len(Y_train))\n",
    "sd"
   ]
  },
  {
   "cell_type": "code",
   "execution_count": 24,
   "id": "581fefc4",
   "metadata": {},
   "outputs": [],
   "source": [
    "X3 = np.linspace(-6, 15, 5000)\n",
    "Y3 = b0 + b1*X3 + b2*X3**2 + b3*X3**3 + b4*X3**4"
   ]
  },
  {
   "cell_type": "code",
   "execution_count": 25,
   "id": "eb40215e",
   "metadata": {},
   "outputs": [
    {
     "data": {
      "text/plain": [
       "array([-6.23983704, -6.24060707, -6.2413643 , ..., 13.04691796,\n",
       "       13.05546209, 13.06401911])"
      ]
     },
     "execution_count": 25,
     "metadata": {},
     "output_type": "execute_result"
    }
   ],
   "source": [
    "Y3"
   ]
  },
  {
   "cell_type": "code",
   "execution_count": 26,
   "id": "6a4fd2c4",
   "metadata": {},
   "outputs": [
    {
     "data": {
      "image/png": "[encoded data removed]",
      "text/plain": [
       "<Figure size 640x480 with 1 Axes>"
      ]
     },
     "metadata": {},
     "output_type": "display_data"
    }
   ],
   "source": [
    "plt.scatter(X_fit[:,3],U[:,3], 1)\n",
    "plt.plot(X3, Y3,0.5, c = 'red')\n",
    "plt.xlabel('Resolved Variable X3')\n",
    "plt.ylabel('Unresolved tendency U(t)')\n",
    "plt.savefig('U_vs_X3.png')"
   ]
  },
  {
   "cell_type": "code",
   "execution_count": null,
   "id": "6b7e5a26",
   "metadata": {},
   "outputs": [],
   "source": []
  },
  {
   "cell_type": "markdown",
   "id": "9f46e73c",
   "metadata": {},
   "source": [
    "**For F = 20**\n",
    "\n",
    "0.262 1.45 −0.0121 −0.00713 0.000296 1.99 86.3%"
   ]
  },
  {
   "cell_type": "markdown",
   "id": "06c128c1",
   "metadata": {},
   "source": [
    "array([ 0.00000000e+00,  1.45296091e+00, -2.21181770e-02, -6.32664016e-03,\n",
    "        2.96796387e-04])"
   ]
  },
  {
   "cell_type": "code",
   "execution_count": null,
   "id": "2d023050",
   "metadata": {},
   "outputs": [],
   "source": []
  },
  {
   "cell_type": "markdown",
   "id": "7b2ef42c",
   "metadata": {},
   "source": [
    "### Integrating the equation using Rk2"
   ]
  },
  {
   "cell_type": "code",
   "execution_count": 27,
   "id": "4a613925",
   "metadata": {},
   "outputs": [
    {
     "name": "stderr",
     "output_type": "stream",
     "text": [
      "C:\\Users\\abhil\\AppData\\Local\\Temp\\ipykernel_7304\\869679993.py:1: NumbaWarning: \u001b[1m\n",
      "Compilation is falling back to object mode WITH looplifting enabled because Function \"L96_integrate_model\" failed type inference due to: \u001b[1m\u001b[1m\u001b[1mNo implementation of function Function(<built-in function zeros>) found for signature:\n",
      " \n",
      " >>> zeros(list(int64)<iv=None>)\n",
      " \n",
      "There are 2 candidate implementations:\n",
      "\u001b[1m  - Of which 2 did not match due to:\n",
      "  Overload in function 'ol_np_zeros': File: numba\\np\\arrayobj.py: Line 4164.\n",
      "    With argument(s): '(list(int64)<iv=None>)':\u001b[0m\n",
      "\u001b[1m   Rejected as the implementation raised a specific error:\n",
      "     TypingError: Failed in nopython mode pipeline (step: nopython frontend)\n",
      "   \u001b[1m\u001b[1m\u001b[1mNo implementation of function Function(<built-in function empty>) found for signature:\n",
      "    \n",
      "    >>> empty(list(int64)<iv=None>, dtype=Function(<class 'float'>))\n",
      "    \n",
      "   There are 2 candidate implementations:\n",
      "   \u001b[1m      - Of which 2 did not match due to:\n",
      "         Overload in function 'ol_np_empty': File: numba\\np\\arrayobj.py: Line 4086.\n",
      "           With argument(s): '(list(int64)<iv=None>, dtype=Function(<class 'float'>))':\u001b[0m\n",
      "   \u001b[1m       Rejected as the implementation raised a specific error:\n",
      "            TypingError: \u001b[1mCannot parse input types to function np.empty(list(int64)<iv=None>, Function(<class 'float'>))\u001b[0m\u001b[0m\n",
      "     raised from D:\\SOFTWARES\\Anaconda\\Anaconda1\\lib\\site-packages\\numba\\np\\arrayobj.py:4105\n",
      "   \u001b[0m\n",
      "   \u001b[0m\u001b[1mDuring: resolving callee type: Function(<built-in function empty>)\u001b[0m\n",
      "   \u001b[0m\u001b[1mDuring: typing of call at D:\\SOFTWARES\\Anaconda\\Anaconda1\\lib\\site-packages\\numba\\np\\arrayobj.py (4169)\n",
      "   \u001b[0m\n",
      "   \u001b[1m\n",
      "   File \"D:\\SOFTWARES\\Anaconda\\Anaconda1\\lib\\site-packages\\numba\\np\\arrayobj.py\", line 4169:\u001b[0m\n",
      "   \u001b[1m    def impl(shape, dtype=float):\n",
      "   \u001b[1m        arr = np.empty(shape, dtype=dtype)\n",
      "   \u001b[0m        \u001b[1m^\u001b[0m\u001b[0m\n",
      "\u001b[0m\n",
      "  raised from D:\\SOFTWARES\\Anaconda\\Anaconda1\\lib\\site-packages\\numba\\core\\typeinfer.py:1086\n",
      "\u001b[0m\n",
      "\u001b[0m\u001b[1mDuring: resolving callee type: Function(<built-in function zeros>)\u001b[0m\n",
      "\u001b[0m\u001b[1mDuring: typing of call at C:\\Users\\abhil\\AppData\\Local\\Temp\\ipykernel_7304\\869679993.py (3)\n",
      "\u001b[0m\n",
      "\u001b[1m\n",
      "File \"..\\..\\..\\..\\..\\..\\..\\AppData\\Local\\Temp\\ipykernel_7304\\869679993.py\", line 3:\u001b[0m\n",
      "\u001b[1m<source missing, REPL/exec in use?>\u001b[0m\n",
      "\u001b[0m\n",
      "  @jit\n",
      "C:\\Users\\abhil\\AppData\\Local\\Temp\\ipykernel_7304\\869679993.py:1: NumbaWarning: \u001b[1m\n",
      "Compilation is falling back to object mode WITHOUT looplifting enabled because Function \"L96_integrate_model\" failed type inference due to: \u001b[1m\u001b[1mCannot determine Numba type of <class 'numba.core.dispatcher.LiftedLoop'>\u001b[0m\n",
      "\u001b[1m\n",
      "File \"..\\..\\..\\..\\..\\..\\..\\AppData\\Local\\Temp\\ipykernel_7304\\869679993.py\", line 10:\u001b[0m\n",
      "\u001b[1m<source missing, REPL/exec in use?>\u001b[0m\n",
      "\u001b[0m\u001b[0m\n",
      "  @jit\n",
      "D:\\SOFTWARES\\Anaconda\\Anaconda1\\lib\\site-packages\\numba\\core\\object_mode_passes.py:151: NumbaWarning: \u001b[1mFunction \"L96_integrate_model\" was compiled in object mode without forceobj=True, but has lifted loops.\n",
      "\u001b[1m\n",
      "File \"..\\..\\..\\..\\..\\..\\..\\AppData\\Local\\Temp\\ipykernel_7304\\869679993.py\", line 3:\u001b[0m\n",
      "\u001b[1m<source missing, REPL/exec in use?>\u001b[0m\n",
      "\u001b[0m\n",
      "  warnings.warn(errors.NumbaWarning(warn_msg,\n",
      "D:\\SOFTWARES\\Anaconda\\Anaconda1\\lib\\site-packages\\numba\\core\\object_mode_passes.py:161: NumbaDeprecationWarning: \u001b[1m\n",
      "Fall-back from the nopython compilation path to the object mode compilation path has been detected, this is deprecated behaviour.\n",
      "\n",
      "For more information visit https://numba.readthedocs.io/en/stable/reference/deprecation.html#deprecation-of-object-mode-fall-back-behaviour-when-using-jit\n",
      "\u001b[1m\n",
      "File \"..\\..\\..\\..\\..\\..\\..\\AppData\\Local\\Temp\\ipykernel_7304\\869679993.py\", line 3:\u001b[0m\n",
      "\u001b[1m<source missing, REPL/exec in use?>\u001b[0m\n",
      "\u001b[0m\n",
      "  warnings.warn(errors.NumbaDeprecationWarning(msg,\n"
     ]
    },
    {
     "name": "stdout",
     "output_type": "stream",
     "text": [
      "alloted memory for X_arr_model\n"
     ]
    },
    {
     "name": "stderr",
     "output_type": "stream",
     "text": [
      "D:\\SOFTWARES\\Anaconda\\Anaconda1\\lib\\site-packages\\numba\\core\\ir_utils.py:2147: NumbaPendingDeprecationWarning: \u001b[1m\n",
      "Encountered the use of a type that is scheduled for deprecation: type 'reflected list' found for argument 'B' of function 'L96_integrate_model'.\n",
      "\n",
      "For more information visit https://numba.readthedocs.io/en/stable/reference/deprecation.html#deprecation-of-reflection-for-list-and-set-types\n",
      "\u001b[1m\n",
      "File \"..\\..\\..\\..\\..\\..\\..\\AppData\\Local\\Temp\\ipykernel_7304\\869679993.py\", line 10:\u001b[0m\n",
      "\u001b[1m<source missing, REPL/exec in use?>\u001b[0m\n",
      "\u001b[0m\n",
      "  warnings.warn(NumbaPendingDeprecationWarning(msg, loc=loc))\n"
     ]
    }
   ],
   "source": [
    "X_arr_model = L96_integrate_model(T,K,ts_model,h,b,c,F, B)"
   ]
  },
  {
   "cell_type": "code",
   "execution_count": null,
   "id": "aad4f1cd",
   "metadata": {},
   "outputs": [],
   "source": []
  },
  {
   "cell_type": "code",
   "execution_count": 28,
   "id": "7a802379",
   "metadata": {},
   "outputs": [],
   "source": [
    "X_model_hist,bins = np.histogram(X_arr_model[:,3],bins = np.linspace(-10,15,5000))"
   ]
  },
  {
   "cell_type": "code",
   "execution_count": 29,
   "id": "b9f2d684",
   "metadata": {},
   "outputs": [
    {
     "data": {
      "text/plain": [
       "9747"
      ]
     },
     "execution_count": 29,
     "metadata": {},
     "output_type": "execute_result"
    }
   ],
   "source": [
    "np.max(X_model_hist)"
   ]
  },
  {
   "cell_type": "code",
   "execution_count": 30,
   "id": "8d6057c5",
   "metadata": {},
   "outputs": [
    {
     "data": {
      "text/plain": [
       "22000000"
      ]
     },
     "execution_count": 30,
     "metadata": {},
     "output_type": "execute_result"
    }
   ],
   "source": [
    "np.sum(X_model_hist)"
   ]
  },
  {
   "cell_type": "code",
   "execution_count": 31,
   "id": "b5e144f7",
   "metadata": {
    "scrolled": true
   },
   "outputs": [
    {
     "data": {
      "text/plain": [
       "(0.0, 10000.0)"
      ]
     },
     "execution_count": 31,
     "metadata": {},
     "output_type": "execute_result"
    },
    {
     "data": {
      "image/png": "[encoded data removed]",
      "text/plain": [
       "<Figure size 640x480 with 1 Axes>"
      ]
     },
     "metadata": {},
     "output_type": "display_data"
    }
   ],
   "source": [
    "plt.hist(X_arr_model[:,2],bins = np.linspace(-10,15,10000))\n",
    "plt.ylim(0, 10000)"
   ]
  },
  {
   "cell_type": "code",
   "execution_count": 59,
   "id": "c9ee166b",
   "metadata": {},
   "outputs": [],
   "source": [
    "X_arr_hist, bins = np.histogram(X_arr[:,3],bins = np.linspace(-10,15,5000))"
   ]
  },
  {
   "cell_type": "code",
   "execution_count": 60,
   "id": "a81a8f3a",
   "metadata": {},
   "outputs": [
    {
     "data": {
      "text/plain": [
       "9435"
      ]
     },
     "execution_count": 60,
     "metadata": {},
     "output_type": "execute_result"
    }
   ],
   "source": [
    "np.max(X_arr_hist)"
   ]
  },
  {
   "cell_type": "code",
   "execution_count": 61,
   "id": "31c062b3",
   "metadata": {},
   "outputs": [
    {
     "data": {
      "text/plain": [
       "22000000"
      ]
     },
     "execution_count": 61,
     "metadata": {},
     "output_type": "execute_result"
    }
   ],
   "source": [
    "np.sum(X_arr_hist)"
   ]
  },
  {
   "cell_type": "code",
   "execution_count": 68,
   "id": "658d174d",
   "metadata": {},
   "outputs": [
    {
     "data": {
      "image/png": "[encoded data removed]",
      "text/plain": [
       "<Figure size 640x480 with 1 Axes>"
      ]
     },
     "metadata": {},
     "output_type": "display_data"
    }
   ],
   "source": [
    "plt.hist(X_arr[:,0],bins = np.linspace(-10,15,5000))\n",
    "plt.xlabel('Resolved Variable X3')\n",
    "plt.ylabel('frequency of X3')\n",
    "plt.savefig('frequency_X_truth.png')"
   ]
  },
  {
   "cell_type": "markdown",
   "id": "c355bc60",
   "metadata": {},
   "source": [
    "### GIVEN IN PAPER"
   ]
  },
  {
   "cell_type": "code",
   "execution_count": 102,
   "id": "28c0b850",
   "metadata": {},
   "outputs": [
    {
     "name": "stderr",
     "output_type": "stream",
     "text": [
      "C:\\Users\\abhil\\AppData\\Local\\Temp\\ipykernel_5804\\869679993.py:1: NumbaWarning: \u001b[1m\n",
      "Compilation is falling back to object mode WITH looplifting enabled because Function \"L96_integrate_model\" failed type inference due to: \u001b[1m\u001b[1m\u001b[1mNo implementation of function Function(<built-in function zeros>) found for signature:\n",
      " \n",
      " >>> zeros(list(int64)<iv=None>)\n",
      " \n",
      "There are 2 candidate implementations:\n",
      "\u001b[1m  - Of which 2 did not match due to:\n",
      "  Overload in function 'ol_np_zeros': File: numba\\np\\arrayobj.py: Line 4164.\n",
      "    With argument(s): '(list(int64)<iv=None>)':\u001b[0m\n",
      "\u001b[1m   Rejected as the implementation raised a specific error:\n",
      "     TypingError: Failed in nopython mode pipeline (step: nopython frontend)\n",
      "   \u001b[1m\u001b[1m\u001b[1mNo implementation of function Function(<built-in function empty>) found for signature:\n",
      "    \n",
      "    >>> empty(list(int64)<iv=None>, dtype=Function(<class 'float'>))\n",
      "    \n",
      "   There are 2 candidate implementations:\n",
      "   \u001b[1m      - Of which 2 did not match due to:\n",
      "         Overload in function 'ol_np_empty': File: numba\\np\\arrayobj.py: Line 4086.\n",
      "           With argument(s): '(list(int64)<iv=None>, dtype=Function(<class 'float'>))':\u001b[0m\n",
      "   \u001b[1m       Rejected as the implementation raised a specific error:\n",
      "            TypingError: \u001b[1mCannot parse input types to function np.empty(list(int64)<iv=None>, Function(<class 'float'>))\u001b[0m\u001b[0m\n",
      "     raised from D:\\SOFTWARES\\Anaconda\\Anaconda1\\lib\\site-packages\\numba\\np\\arrayobj.py:4105\n",
      "   \u001b[0m\n",
      "   \u001b[0m\u001b[1mDuring: resolving callee type: Function(<built-in function empty>)\u001b[0m\n",
      "   \u001b[0m\u001b[1mDuring: typing of call at D:\\SOFTWARES\\Anaconda\\Anaconda1\\lib\\site-packages\\numba\\np\\arrayobj.py (4169)\n",
      "   \u001b[0m\n",
      "   \u001b[1m\n",
      "   File \"D:\\SOFTWARES\\Anaconda\\Anaconda1\\lib\\site-packages\\numba\\np\\arrayobj.py\", line 4169:\u001b[0m\n",
      "   \u001b[1m    def impl(shape, dtype=float):\n",
      "   \u001b[1m        arr = np.empty(shape, dtype=dtype)\n",
      "   \u001b[0m        \u001b[1m^\u001b[0m\u001b[0m\n",
      "\u001b[0m\n",
      "  raised from D:\\SOFTWARES\\Anaconda\\Anaconda1\\lib\\site-packages\\numba\\core\\typeinfer.py:1086\n",
      "\u001b[0m\n",
      "\u001b[0m\u001b[1mDuring: resolving callee type: Function(<built-in function zeros>)\u001b[0m\n",
      "\u001b[0m\u001b[1mDuring: typing of call at C:\\Users\\abhil\\AppData\\Local\\Temp\\ipykernel_5804\\869679993.py (3)\n",
      "\u001b[0m\n",
      "\u001b[1m\n",
      "File \"..\\..\\..\\..\\..\\..\\..\\AppData\\Local\\Temp\\ipykernel_5804\\869679993.py\", line 3:\u001b[0m\n",
      "\u001b[1m<source missing, REPL/exec in use?>\u001b[0m\n",
      "\u001b[0m\n",
      "  @jit\n",
      "C:\\Users\\abhil\\AppData\\Local\\Temp\\ipykernel_5804\\869679993.py:1: NumbaWarning: \u001b[1m\n",
      "Compilation is falling back to object mode WITHOUT looplifting enabled because Function \"L96_integrate_model\" failed type inference due to: \u001b[1m\u001b[1mCannot determine Numba type of <class 'numba.core.dispatcher.LiftedLoop'>\u001b[0m\n",
      "\u001b[1m\n",
      "File \"..\\..\\..\\..\\..\\..\\..\\AppData\\Local\\Temp\\ipykernel_5804\\869679993.py\", line 10:\u001b[0m\n",
      "\u001b[1m<source missing, REPL/exec in use?>\u001b[0m\n",
      "\u001b[0m\u001b[0m\n",
      "  @jit\n",
      "D:\\SOFTWARES\\Anaconda\\Anaconda1\\lib\\site-packages\\numba\\core\\object_mode_passes.py:151: NumbaWarning: \u001b[1mFunction \"L96_integrate_model\" was compiled in object mode without forceobj=True, but has lifted loops.\n",
      "\u001b[1m\n",
      "File \"..\\..\\..\\..\\..\\..\\..\\AppData\\Local\\Temp\\ipykernel_5804\\869679993.py\", line 3:\u001b[0m\n",
      "\u001b[1m<source missing, REPL/exec in use?>\u001b[0m\n",
      "\u001b[0m\n",
      "  warnings.warn(errors.NumbaWarning(warn_msg,\n",
      "D:\\SOFTWARES\\Anaconda\\Anaconda1\\lib\\site-packages\\numba\\core\\object_mode_passes.py:161: NumbaDeprecationWarning: \u001b[1m\n",
      "Fall-back from the nopython compilation path to the object mode compilation path has been detected, this is deprecated behaviour.\n",
      "\n",
      "For more information visit https://numba.readthedocs.io/en/stable/reference/deprecation.html#deprecation-of-object-mode-fall-back-behaviour-when-using-jit\n",
      "\u001b[1m\n",
      "File \"..\\..\\..\\..\\..\\..\\..\\AppData\\Local\\Temp\\ipykernel_5804\\869679993.py\", line 3:\u001b[0m\n",
      "\u001b[1m<source missing, REPL/exec in use?>\u001b[0m\n",
      "\u001b[0m\n",
      "  warnings.warn(errors.NumbaDeprecationWarning(msg,\n",
      "D:\\SOFTWARES\\Anaconda\\Anaconda1\\lib\\site-packages\\numba\\core\\ir_utils.py:2147: NumbaPendingDeprecationWarning: \u001b[1m\n",
      "Encountered the use of a type that is scheduled for deprecation: type 'reflected list' found for argument 'B' of function 'L96_integrate_model'.\n",
      "\n",
      "For more information visit https://numba.readthedocs.io/en/stable/reference/deprecation.html#deprecation-of-reflection-for-list-and-set-types\n",
      "\u001b[1m\n",
      "File \"..\\..\\..\\..\\..\\..\\..\\AppData\\Local\\Temp\\ipykernel_5804\\869679993.py\", line 10:\u001b[0m\n",
      "\u001b[1m<source missing, REPL/exec in use?>\u001b[0m\n",
      "\u001b[0m\n",
      "  warnings.warn(NumbaPendingDeprecationWarning(msg, loc=loc))\n"
     ]
    },
    {
     "name": "stdout",
     "output_type": "stream",
     "text": [
      "alloted memory for X_arr_model\n"
     ]
    }
   ],
   "source": [
    "B1 = [0.275, 1.59, -0.0190, -0.0130, 0.000707]\n",
    "X_arr_model_paper = L96_integrate_model(T,K,ts_model,h,b,c,F, B1)"
   ]
  },
  {
   "cell_type": "code",
   "execution_count": 103,
   "id": "38fddfe9",
   "metadata": {
    "scrolled": true
   },
   "outputs": [
    {
     "data": {
      "image/png": "[encoded data removed]",
      "text/plain": [
       "<Figure size 640x480 with 1 Axes>"
      ]
     },
     "metadata": {},
     "output_type": "display_data"
    }
   ],
   "source": [
    "plt.hist(X_arr_model_paper[:,0],bins = np.linspace(-10,15,5000))\n",
    "plt.xlabel('Resolved Variable X3')\n",
    "plt.ylabel('frequency of X3')\n",
    "plt.savefig('frequency_X_truth_paper.png')"
   ]
  },
  {
   "cell_type": "code",
   "execution_count": null,
   "id": "dbd9be17",
   "metadata": {},
   "outputs": [],
   "source": []
  },
  {
   "cell_type": "markdown",
   "id": "e2d3cbdd",
   "metadata": {},
   "source": [
    "### DETERMINISTIC $\\phi$ = $\\sigma_e$ = 0"
   ]
  },
  {
   "cell_type": "code",
   "execution_count": 104,
   "id": "c20396a0",
   "metadata": {},
   "outputs": [
    {
     "name": "stderr",
     "output_type": "stream",
     "text": [
      "C:\\Users\\abhil\\AppData\\Local\\Temp\\ipykernel_5804\\2099268280.py:1: NumbaWarning: \u001b[1m\n",
      "Compilation is falling back to object mode WITH looplifting enabled because Function \"L96_integrate_stochastic_model\" failed type inference due to: \u001b[1m\u001b[1m\u001b[1mNo implementation of function Function(<built-in function zeros>) found for signature:\n",
      " \n",
      " >>> zeros(list(int64)<iv=None>)\n",
      " \n",
      "There are 2 candidate implementations:\n",
      "\u001b[1m    - Of which 2 did not match due to:\n",
      "    Overload in function 'ol_np_zeros': File: numba\\np\\arrayobj.py: Line 4164.\n",
      "      With argument(s): '(list(int64)<iv=None>)':\u001b[0m\n",
      "\u001b[1m     Rejected as the implementation raised a specific error:\n",
      "       TypingError: Failed in nopython mode pipeline (step: nopython frontend)\n",
      "     \u001b[1m\u001b[1m\u001b[1mNo implementation of function Function(<built-in function empty>) found for signature:\n",
      "      \n",
      "      >>> empty(list(int64)<iv=None>, dtype=Function(<class 'float'>))\n",
      "      \n",
      "     There are 2 candidate implementations:\n",
      "     \u001b[1m      - Of which 2 did not match due to:\n",
      "           Overload in function 'ol_np_empty': File: numba\\np\\arrayobj.py: Line 4086.\n",
      "             With argument(s): '(list(int64)<iv=None>, dtype=Function(<class 'float'>))':\u001b[0m\n",
      "     \u001b[1m       Rejected as the implementation raised a specific error:\n",
      "              TypingError: \u001b[1mCannot parse input types to function np.empty(list(int64)<iv=None>, Function(<class 'float'>))\u001b[0m\u001b[0m\n",
      "       raised from D:\\SOFTWARES\\Anaconda\\Anaconda1\\lib\\site-packages\\numba\\np\\arrayobj.py:4105\n",
      "     \u001b[0m\n",
      "     \u001b[0m\u001b[1mDuring: resolving callee type: Function(<built-in function empty>)\u001b[0m\n",
      "     \u001b[0m\u001b[1mDuring: typing of call at D:\\SOFTWARES\\Anaconda\\Anaconda1\\lib\\site-packages\\numba\\np\\arrayobj.py (4169)\n",
      "     \u001b[0m\n",
      "     \u001b[1m\n",
      "     File \"D:\\SOFTWARES\\Anaconda\\Anaconda1\\lib\\site-packages\\numba\\np\\arrayobj.py\", line 4169:\u001b[0m\n",
      "     \u001b[1m    def impl(shape, dtype=float):\n",
      "     \u001b[1m        arr = np.empty(shape, dtype=dtype)\n",
      "     \u001b[0m        \u001b[1m^\u001b[0m\u001b[0m\n",
      "\u001b[0m\n",
      "  raised from D:\\SOFTWARES\\Anaconda\\Anaconda1\\lib\\site-packages\\numba\\core\\typeinfer.py:1086\n",
      "\u001b[0m\n",
      "\u001b[0m\u001b[1mDuring: resolving callee type: Function(<built-in function zeros>)\u001b[0m\n",
      "\u001b[0m\u001b[1mDuring: typing of call at C:\\Users\\abhil\\AppData\\Local\\Temp\\ipykernel_5804\\2099268280.py (3)\n",
      "\u001b[0m\n",
      "\u001b[1m\n",
      "File \"..\\..\\..\\..\\..\\..\\..\\AppData\\Local\\Temp\\ipykernel_5804\\2099268280.py\", line 3:\u001b[0m\n",
      "\u001b[1m<source missing, REPL/exec in use?>\u001b[0m\n",
      "\u001b[0m\n",
      "  @jit\n",
      "C:\\Users\\abhil\\AppData\\Local\\Temp\\ipykernel_5804\\2099268280.py:1: NumbaWarning: \u001b[1m\n",
      "Compilation is falling back to object mode WITHOUT looplifting enabled because Function \"L96_integrate_stochastic_model\" failed type inference due to: \u001b[1m\u001b[1mCannot determine Numba type of <class 'numba.core.dispatcher.LiftedLoop'>\u001b[0m\n",
      "\u001b[1m\n",
      "File \"..\\..\\..\\..\\..\\..\\..\\AppData\\Local\\Temp\\ipykernel_5804\\2099268280.py\", line 10:\u001b[0m\n",
      "\u001b[1m<source missing, REPL/exec in use?>\u001b[0m\n",
      "\u001b[0m\u001b[0m\n",
      "  @jit\n",
      "D:\\SOFTWARES\\Anaconda\\Anaconda1\\lib\\site-packages\\numba\\core\\object_mode_passes.py:151: NumbaWarning: \u001b[1mFunction \"L96_integrate_stochastic_model\" was compiled in object mode without forceobj=True, but has lifted loops.\n",
      "\u001b[1m\n",
      "File \"..\\..\\..\\..\\..\\..\\..\\AppData\\Local\\Temp\\ipykernel_5804\\2099268280.py\", line 3:\u001b[0m\n",
      "\u001b[1m<source missing, REPL/exec in use?>\u001b[0m\n",
      "\u001b[0m\n",
      "  warnings.warn(errors.NumbaWarning(warn_msg,\n",
      "D:\\SOFTWARES\\Anaconda\\Anaconda1\\lib\\site-packages\\numba\\core\\object_mode_passes.py:161: NumbaDeprecationWarning: \u001b[1m\n",
      "Fall-back from the nopython compilation path to the object mode compilation path has been detected, this is deprecated behaviour.\n",
      "\n",
      "For more information visit https://numba.readthedocs.io/en/stable/reference/deprecation.html#deprecation-of-object-mode-fall-back-behaviour-when-using-jit\n",
      "\u001b[1m\n",
      "File \"..\\..\\..\\..\\..\\..\\..\\AppData\\Local\\Temp\\ipykernel_5804\\2099268280.py\", line 3:\u001b[0m\n",
      "\u001b[1m<source missing, REPL/exec in use?>\u001b[0m\n",
      "\u001b[0m\n",
      "  warnings.warn(errors.NumbaDeprecationWarning(msg,\n",
      "D:\\SOFTWARES\\Anaconda\\Anaconda1\\lib\\site-packages\\numba\\core\\ir_utils.py:2147: NumbaPendingDeprecationWarning: \u001b[1m\n",
      "Encountered the use of a type that is scheduled for deprecation: type 'reflected list' found for argument 'B' of function 'L96_integrate_stochastic_model'.\n",
      "\n",
      "For more information visit https://numba.readthedocs.io/en/stable/reference/deprecation.html#deprecation-of-reflection-for-list-and-set-types\n",
      "\u001b[1m\n",
      "File \"..\\..\\..\\..\\..\\..\\..\\AppData\\Local\\Temp\\ipykernel_5804\\2099268280.py\", line 10:\u001b[0m\n",
      "\u001b[1m<source missing, REPL/exec in use?>\u001b[0m\n",
      "\u001b[0m\n",
      "  warnings.warn(NumbaPendingDeprecationWarning(msg, loc=loc))\n"
     ]
    },
    {
     "name": "stdout",
     "output_type": "stream",
     "text": [
      "alloted memory for X_arr_model\n"
     ]
    }
   ],
   "source": [
    "X_determistic = L96_integrate_stochastic_model(T, K, ts_model, h, b, c, F, B, 0, 0)"
   ]
  },
  {
   "cell_type": "code",
   "execution_count": 105,
   "id": "a3aaa2c8",
   "metadata": {},
   "outputs": [
    {
     "name": "stderr",
     "output_type": "stream",
     "text": [
      "C:\\Users\\abhil\\AppData\\Local\\Temp\\ipykernel_5804\\2099268280.py:1: NumbaWarning: \u001b[1m\n",
      "Compilation is falling back to object mode WITH looplifting enabled because Function \"L96_integrate_stochastic_model\" failed type inference due to: \u001b[1m\u001b[1m\u001b[1mNo implementation of function Function(<built-in function zeros>) found for signature:\n",
      " \n",
      " >>> zeros(list(int64)<iv=None>)\n",
      " \n",
      "There are 2 candidate implementations:\n",
      "\u001b[1m      - Of which 2 did not match due to:\n",
      "      Overload in function 'ol_np_zeros': File: numba\\np\\arrayobj.py: Line 4164.\n",
      "        With argument(s): '(list(int64)<iv=None>)':\u001b[0m\n",
      "\u001b[1m       Rejected as the implementation raised a specific error:\n",
      "         TypingError: Failed in nopython mode pipeline (step: nopython frontend)\n",
      "       \u001b[1m\u001b[1m\u001b[1mNo implementation of function Function(<built-in function empty>) found for signature:\n",
      "        \n",
      "        >>> empty(list(int64)<iv=None>, dtype=Function(<class 'float'>))\n",
      "        \n",
      "       There are 2 candidate implementations:\n",
      "       \u001b[1m      - Of which 2 did not match due to:\n",
      "             Overload in function 'ol_np_empty': File: numba\\np\\arrayobj.py: Line 4086.\n",
      "               With argument(s): '(list(int64)<iv=None>, dtype=Function(<class 'float'>))':\u001b[0m\n",
      "       \u001b[1m       Rejected as the implementation raised a specific error:\n",
      "                TypingError: \u001b[1mCannot parse input types to function np.empty(list(int64)<iv=None>, Function(<class 'float'>))\u001b[0m\u001b[0m\n",
      "         raised from D:\\SOFTWARES\\Anaconda\\Anaconda1\\lib\\site-packages\\numba\\np\\arrayobj.py:4105\n",
      "       \u001b[0m\n",
      "       \u001b[0m\u001b[1mDuring: resolving callee type: Function(<built-in function empty>)\u001b[0m\n",
      "       \u001b[0m\u001b[1mDuring: typing of call at D:\\SOFTWARES\\Anaconda\\Anaconda1\\lib\\site-packages\\numba\\np\\arrayobj.py (4169)\n",
      "       \u001b[0m\n",
      "       \u001b[1m\n",
      "       File \"D:\\SOFTWARES\\Anaconda\\Anaconda1\\lib\\site-packages\\numba\\np\\arrayobj.py\", line 4169:\u001b[0m\n",
      "       \u001b[1m    def impl(shape, dtype=float):\n",
      "       \u001b[1m        arr = np.empty(shape, dtype=dtype)\n",
      "       \u001b[0m        \u001b[1m^\u001b[0m\u001b[0m\n",
      "\u001b[0m\n",
      "  raised from D:\\SOFTWARES\\Anaconda\\Anaconda1\\lib\\site-packages\\numba\\core\\typeinfer.py:1086\n",
      "\u001b[0m\n",
      "\u001b[0m\u001b[1mDuring: resolving callee type: Function(<built-in function zeros>)\u001b[0m\n",
      "\u001b[0m\u001b[1mDuring: typing of call at C:\\Users\\abhil\\AppData\\Local\\Temp\\ipykernel_5804\\2099268280.py (3)\n",
      "\u001b[0m\n",
      "\u001b[1m\n",
      "File \"..\\..\\..\\..\\..\\..\\..\\AppData\\Local\\Temp\\ipykernel_5804\\2099268280.py\", line 3:\u001b[0m\n",
      "\u001b[1m<source missing, REPL/exec in use?>\u001b[0m\n",
      "\u001b[0m\n",
      "  @jit\n",
      "C:\\Users\\abhil\\AppData\\Local\\Temp\\ipykernel_5804\\2099268280.py:1: NumbaWarning: \u001b[1m\n",
      "Compilation is falling back to object mode WITHOUT looplifting enabled because Function \"L96_integrate_stochastic_model\" failed type inference due to: \u001b[1m\u001b[1mCannot determine Numba type of <class 'numba.core.dispatcher.LiftedLoop'>\u001b[0m\n",
      "\u001b[1m\n",
      "File \"..\\..\\..\\..\\..\\..\\..\\AppData\\Local\\Temp\\ipykernel_5804\\2099268280.py\", line 10:\u001b[0m\n",
      "\u001b[1m<source missing, REPL/exec in use?>\u001b[0m\n",
      "\u001b[0m\u001b[0m\n",
      "  @jit\n",
      "D:\\SOFTWARES\\Anaconda\\Anaconda1\\lib\\site-packages\\numba\\core\\object_mode_passes.py:151: NumbaWarning: \u001b[1mFunction \"L96_integrate_stochastic_model\" was compiled in object mode without forceobj=True, but has lifted loops.\n",
      "\u001b[1m\n",
      "File \"..\\..\\..\\..\\..\\..\\..\\AppData\\Local\\Temp\\ipykernel_5804\\2099268280.py\", line 3:\u001b[0m\n",
      "\u001b[1m<source missing, REPL/exec in use?>\u001b[0m\n",
      "\u001b[0m\n",
      "  warnings.warn(errors.NumbaWarning(warn_msg,\n",
      "D:\\SOFTWARES\\Anaconda\\Anaconda1\\lib\\site-packages\\numba\\core\\object_mode_passes.py:161: NumbaDeprecationWarning: \u001b[1m\n",
      "Fall-back from the nopython compilation path to the object mode compilation path has been detected, this is deprecated behaviour.\n",
      "\n",
      "For more information visit https://numba.readthedocs.io/en/stable/reference/deprecation.html#deprecation-of-object-mode-fall-back-behaviour-when-using-jit\n",
      "\u001b[1m\n",
      "File \"..\\..\\..\\..\\..\\..\\..\\AppData\\Local\\Temp\\ipykernel_5804\\2099268280.py\", line 3:\u001b[0m\n",
      "\u001b[1m<source missing, REPL/exec in use?>\u001b[0m\n",
      "\u001b[0m\n",
      "  warnings.warn(errors.NumbaDeprecationWarning(msg,\n"
     ]
    },
    {
     "name": "stdout",
     "output_type": "stream",
     "text": [
      "alloted memory for X_arr_model\n"
     ]
    },
    {
     "name": "stderr",
     "output_type": "stream",
     "text": [
      "D:\\SOFTWARES\\Anaconda\\Anaconda1\\lib\\site-packages\\numba\\core\\ir_utils.py:2147: NumbaPendingDeprecationWarning: \u001b[1m\n",
      "Encountered the use of a type that is scheduled for deprecation: type 'reflected list' found for argument 'B' of function 'L96_integrate_stochastic_model'.\n",
      "\n",
      "For more information visit https://numba.readthedocs.io/en/stable/reference/deprecation.html#deprecation-of-reflection-for-list-and-set-types\n",
      "\u001b[1m\n",
      "File \"..\\..\\..\\..\\..\\..\\..\\AppData\\Local\\Temp\\ipykernel_5804\\2099268280.py\", line 10:\u001b[0m\n",
      "\u001b[1m<source missing, REPL/exec in use?>\u001b[0m\n",
      "\u001b[0m\n",
      "  warnings.warn(NumbaPendingDeprecationWarning(msg, loc=loc))\n"
     ]
    }
   ],
   "source": [
    "X_white = L96_integrate_stochastic_model(T, K, ts_model, h, b, c, F, B, 0, sd)"
   ]
  },
  {
   "cell_type": "code",
   "execution_count": null,
   "id": "76ab908a",
   "metadata": {},
   "outputs": [],
   "source": []
  },
  {
   "cell_type": "code",
   "execution_count": 106,
   "id": "3ae7a9d3",
   "metadata": {},
   "outputs": [
    {
     "data": {
      "text/plain": [
       "0.9844964370054085"
      ]
     },
     "execution_count": 106,
     "metadata": {},
     "output_type": "execute_result"
    }
   ],
   "source": [
    "#choosen such that correlation timescale = 64 model time steps\n",
    "phi = np.exp(-1/(64))\n",
    "phi"
   ]
  },
  {
   "cell_type": "code",
   "execution_count": null,
   "id": "edd56d2c",
   "metadata": {},
   "outputs": [],
   "source": []
  },
  {
   "cell_type": "code",
   "execution_count": 107,
   "id": "fc7dd847",
   "metadata": {},
   "outputs": [
    {
     "name": "stderr",
     "output_type": "stream",
     "text": [
      "C:\\Users\\abhil\\AppData\\Local\\Temp\\ipykernel_5804\\2099268280.py:1: NumbaWarning: \u001b[1m\n",
      "Compilation is falling back to object mode WITH looplifting enabled because Function \"L96_integrate_stochastic_model\" failed type inference due to: \u001b[1m\u001b[1m\u001b[1mNo implementation of function Function(<built-in function zeros>) found for signature:\n",
      " \n",
      " >>> zeros(list(int64)<iv=None>)\n",
      " \n",
      "There are 2 candidate implementations:\n",
      "\u001b[1m      - Of which 2 did not match due to:\n",
      "      Overload in function 'ol_np_zeros': File: numba\\np\\arrayobj.py: Line 4164.\n",
      "        With argument(s): '(list(int64)<iv=None>)':\u001b[0m\n",
      "\u001b[1m       Rejected as the implementation raised a specific error:\n",
      "         TypingError: Failed in nopython mode pipeline (step: nopython frontend)\n",
      "       \u001b[1m\u001b[1m\u001b[1mNo implementation of function Function(<built-in function empty>) found for signature:\n",
      "        \n",
      "        >>> empty(list(int64)<iv=None>, dtype=Function(<class 'float'>))\n",
      "        \n",
      "       There are 2 candidate implementations:\n",
      "       \u001b[1m      - Of which 2 did not match due to:\n",
      "             Overload in function 'ol_np_empty': File: numba\\np\\arrayobj.py: Line 4086.\n",
      "               With argument(s): '(list(int64)<iv=None>, dtype=Function(<class 'float'>))':\u001b[0m\n",
      "       \u001b[1m       Rejected as the implementation raised a specific error:\n",
      "                TypingError: \u001b[1mCannot parse input types to function np.empty(list(int64)<iv=None>, Function(<class 'float'>))\u001b[0m\u001b[0m\n",
      "         raised from D:\\SOFTWARES\\Anaconda\\Anaconda1\\lib\\site-packages\\numba\\np\\arrayobj.py:4105\n",
      "       \u001b[0m\n",
      "       \u001b[0m\u001b[1mDuring: resolving callee type: Function(<built-in function empty>)\u001b[0m\n",
      "       \u001b[0m\u001b[1mDuring: typing of call at D:\\SOFTWARES\\Anaconda\\Anaconda1\\lib\\site-packages\\numba\\np\\arrayobj.py (4169)\n",
      "       \u001b[0m\n",
      "       \u001b[1m\n",
      "       File \"D:\\SOFTWARES\\Anaconda\\Anaconda1\\lib\\site-packages\\numba\\np\\arrayobj.py\", line 4169:\u001b[0m\n",
      "       \u001b[1m    def impl(shape, dtype=float):\n",
      "       \u001b[1m        arr = np.empty(shape, dtype=dtype)\n",
      "       \u001b[0m        \u001b[1m^\u001b[0m\u001b[0m\n",
      "\u001b[0m\n",
      "  raised from D:\\SOFTWARES\\Anaconda\\Anaconda1\\lib\\site-packages\\numba\\core\\typeinfer.py:1086\n",
      "\u001b[0m\n",
      "\u001b[0m\u001b[1mDuring: resolving callee type: Function(<built-in function zeros>)\u001b[0m\n",
      "\u001b[0m\u001b[1mDuring: typing of call at C:\\Users\\abhil\\AppData\\Local\\Temp\\ipykernel_5804\\2099268280.py (3)\n",
      "\u001b[0m\n",
      "\u001b[1m\n",
      "File \"..\\..\\..\\..\\..\\..\\..\\AppData\\Local\\Temp\\ipykernel_5804\\2099268280.py\", line 3:\u001b[0m\n",
      "\u001b[1m<source missing, REPL/exec in use?>\u001b[0m\n",
      "\u001b[0m\n",
      "  @jit\n",
      "C:\\Users\\abhil\\AppData\\Local\\Temp\\ipykernel_5804\\2099268280.py:1: NumbaWarning: \u001b[1m\n",
      "Compilation is falling back to object mode WITHOUT looplifting enabled because Function \"L96_integrate_stochastic_model\" failed type inference due to: \u001b[1m\u001b[1mCannot determine Numba type of <class 'numba.core.dispatcher.LiftedLoop'>\u001b[0m\n",
      "\u001b[1m\n",
      "File \"..\\..\\..\\..\\..\\..\\..\\AppData\\Local\\Temp\\ipykernel_5804\\2099268280.py\", line 10:\u001b[0m\n",
      "\u001b[1m<source missing, REPL/exec in use?>\u001b[0m\n",
      "\u001b[0m\u001b[0m\n",
      "  @jit\n",
      "D:\\SOFTWARES\\Anaconda\\Anaconda1\\lib\\site-packages\\numba\\core\\object_mode_passes.py:151: NumbaWarning: \u001b[1mFunction \"L96_integrate_stochastic_model\" was compiled in object mode without forceobj=True, but has lifted loops.\n",
      "\u001b[1m\n",
      "File \"..\\..\\..\\..\\..\\..\\..\\AppData\\Local\\Temp\\ipykernel_5804\\2099268280.py\", line 3:\u001b[0m\n",
      "\u001b[1m<source missing, REPL/exec in use?>\u001b[0m\n",
      "\u001b[0m\n",
      "  warnings.warn(errors.NumbaWarning(warn_msg,\n",
      "D:\\SOFTWARES\\Anaconda\\Anaconda1\\lib\\site-packages\\numba\\core\\object_mode_passes.py:161: NumbaDeprecationWarning: \u001b[1m\n",
      "Fall-back from the nopython compilation path to the object mode compilation path has been detected, this is deprecated behaviour.\n",
      "\n",
      "For more information visit https://numba.readthedocs.io/en/stable/reference/deprecation.html#deprecation-of-object-mode-fall-back-behaviour-when-using-jit\n",
      "\u001b[1m\n",
      "File \"..\\..\\..\\..\\..\\..\\..\\AppData\\Local\\Temp\\ipykernel_5804\\2099268280.py\", line 3:\u001b[0m\n",
      "\u001b[1m<source missing, REPL/exec in use?>\u001b[0m\n",
      "\u001b[0m\n",
      "  warnings.warn(errors.NumbaDeprecationWarning(msg,\n",
      "D:\\SOFTWARES\\Anaconda\\Anaconda1\\lib\\site-packages\\numba\\core\\ir_utils.py:2147: NumbaPendingDeprecationWarning: \u001b[1m\n",
      "Encountered the use of a type that is scheduled for deprecation: type 'reflected list' found for argument 'B' of function 'L96_integrate_stochastic_model'.\n",
      "\n",
      "For more information visit https://numba.readthedocs.io/en/stable/reference/deprecation.html#deprecation-of-reflection-for-list-and-set-types\n",
      "\u001b[1m\n",
      "File \"..\\..\\..\\..\\..\\..\\..\\AppData\\Local\\Temp\\ipykernel_5804\\2099268280.py\", line 10:\u001b[0m\n",
      "\u001b[1m<source missing, REPL/exec in use?>\u001b[0m\n",
      "\u001b[0m\n",
      "  warnings.warn(NumbaPendingDeprecationWarning(msg, loc=loc))\n"
     ]
    },
    {
     "name": "stdout",
     "output_type": "stream",
     "text": [
      "alloted memory for X_arr_model\n"
     ]
    }
   ],
   "source": [
    "X_red = L96_integrate_stochastic_model(T, K, ts_model, h, b, c, F, B, phi, sd)"
   ]
  },
  {
   "cell_type": "code",
   "execution_count": null,
   "id": "03b9cc6a",
   "metadata": {},
   "outputs": [],
   "source": []
  },
  {
   "cell_type": "code",
   "execution_count": null,
   "id": "68c47f02",
   "metadata": {},
   "outputs": [],
   "source": [
    "L96_Rk4_integrate_stochastic_model"
   ]
  },
  {
   "cell_type": "code",
   "execution_count": 42,
   "id": "8122ecb9",
   "metadata": {},
   "outputs": [
    {
     "name": "stderr",
     "output_type": "stream",
     "text": [
      "C:\\Users\\abhil\\AppData\\Local\\Temp\\ipykernel_13720\\2133115902.py:1: NumbaWarning: \u001b[1m\n",
      "Compilation is falling back to object mode WITH looplifting enabled because Function \"L96_Rk4_integrate_stochastic_model\" failed type inference due to: \u001b[1m\u001b[1m\u001b[1mNo implementation of function Function(<built-in function zeros>) found for signature:\n",
      " \n",
      " >>> zeros(list(int64)<iv=None>)\n",
      " \n",
      "There are 2 candidate implementations:\n",
      "\u001b[1m      - Of which 2 did not match due to:\n",
      "      Overload in function 'ol_np_zeros': File: numba\\np\\arrayobj.py: Line 4164.\n",
      "        With argument(s): '(list(int64)<iv=None>)':\u001b[0m\n",
      "\u001b[1m       Rejected as the implementation raised a specific error:\n",
      "         TypingError: Failed in nopython mode pipeline (step: nopython frontend)\n",
      "       \u001b[1m\u001b[1m\u001b[1mNo implementation of function Function(<built-in function empty>) found for signature:\n",
      "        \n",
      "        >>> empty(list(int64)<iv=None>, dtype=Function(<class 'float'>))\n",
      "        \n",
      "       There are 2 candidate implementations:\n",
      "       \u001b[1m      - Of which 2 did not match due to:\n",
      "             Overload in function 'ol_np_empty': File: numba\\np\\arrayobj.py: Line 4086.\n",
      "               With argument(s): '(list(int64)<iv=None>, dtype=Function(<class 'float'>))':\u001b[0m\n",
      "       \u001b[1m       Rejected as the implementation raised a specific error:\n",
      "                TypingError: \u001b[1mCannot parse input types to function np.empty(list(int64)<iv=None>, Function(<class 'float'>))\u001b[0m\u001b[0m\n",
      "         raised from D:\\SOFTWARES\\Anaconda\\Anaconda1\\lib\\site-packages\\numba\\np\\arrayobj.py:4105\n",
      "       \u001b[0m\n",
      "       \u001b[0m\u001b[1mDuring: resolving callee type: Function(<built-in function empty>)\u001b[0m\n",
      "       \u001b[0m\u001b[1mDuring: typing of call at D:\\SOFTWARES\\Anaconda\\Anaconda1\\lib\\site-packages\\numba\\np\\arrayobj.py (4169)\n",
      "       \u001b[0m\n",
      "       \u001b[1m\n",
      "       File \"D:\\SOFTWARES\\Anaconda\\Anaconda1\\lib\\site-packages\\numba\\np\\arrayobj.py\", line 4169:\u001b[0m\n",
      "       \u001b[1m    def impl(shape, dtype=float):\n",
      "       \u001b[1m        arr = np.empty(shape, dtype=dtype)\n",
      "       \u001b[0m        \u001b[1m^\u001b[0m\u001b[0m\n",
      "\u001b[0m\n",
      "  raised from D:\\SOFTWARES\\Anaconda\\Anaconda1\\lib\\site-packages\\numba\\core\\typeinfer.py:1086\n",
      "\u001b[0m\n",
      "\u001b[0m\u001b[1mDuring: resolving callee type: Function(<built-in function zeros>)\u001b[0m\n",
      "\u001b[0m\u001b[1mDuring: typing of call at C:\\Users\\abhil\\AppData\\Local\\Temp\\ipykernel_13720\\2133115902.py (3)\n",
      "\u001b[0m\n",
      "\u001b[1m\n",
      "File \"..\\..\\..\\..\\..\\..\\..\\AppData\\Local\\Temp\\ipykernel_13720\\2133115902.py\", line 3:\u001b[0m\n",
      "\u001b[1m<source missing, REPL/exec in use?>\u001b[0m\n",
      "\u001b[0m\n",
      "  @jit\n",
      "C:\\Users\\abhil\\AppData\\Local\\Temp\\ipykernel_13720\\2133115902.py:1: NumbaWarning: \u001b[1m\n",
      "Compilation is falling back to object mode WITHOUT looplifting enabled because Function \"L96_Rk4_integrate_stochastic_model\" failed type inference due to: \u001b[1m\u001b[1mCannot determine Numba type of <class 'numba.core.dispatcher.LiftedLoop'>\u001b[0m\n",
      "\u001b[1m\n",
      "File \"..\\..\\..\\..\\..\\..\\..\\AppData\\Local\\Temp\\ipykernel_13720\\2133115902.py\", line 10:\u001b[0m\n",
      "\u001b[1m<source missing, REPL/exec in use?>\u001b[0m\n",
      "\u001b[0m\u001b[0m\n",
      "  @jit\n",
      "D:\\SOFTWARES\\Anaconda\\Anaconda1\\lib\\site-packages\\numba\\core\\object_mode_passes.py:151: NumbaWarning: \u001b[1mFunction \"L96_Rk4_integrate_stochastic_model\" was compiled in object mode without forceobj=True, but has lifted loops.\n",
      "\u001b[1m\n",
      "File \"..\\..\\..\\..\\..\\..\\..\\AppData\\Local\\Temp\\ipykernel_13720\\2133115902.py\", line 3:\u001b[0m\n",
      "\u001b[1m<source missing, REPL/exec in use?>\u001b[0m\n",
      "\u001b[0m\n",
      "  warnings.warn(errors.NumbaWarning(warn_msg,\n",
      "D:\\SOFTWARES\\Anaconda\\Anaconda1\\lib\\site-packages\\numba\\core\\object_mode_passes.py:161: NumbaDeprecationWarning: \u001b[1m\n",
      "Fall-back from the nopython compilation path to the object mode compilation path has been detected, this is deprecated behaviour.\n",
      "\n",
      "For more information visit https://numba.readthedocs.io/en/stable/reference/deprecation.html#deprecation-of-object-mode-fall-back-behaviour-when-using-jit\n",
      "\u001b[1m\n",
      "File \"..\\..\\..\\..\\..\\..\\..\\AppData\\Local\\Temp\\ipykernel_13720\\2133115902.py\", line 3:\u001b[0m\n",
      "\u001b[1m<source missing, REPL/exec in use?>\u001b[0m\n",
      "\u001b[0m\n",
      "  warnings.warn(errors.NumbaDeprecationWarning(msg,\n"
     ]
    },
    {
     "name": "stdout",
     "output_type": "stream",
     "text": [
      "alloted memory for X_arr_model\n"
     ]
    },
    {
     "name": "stderr",
     "output_type": "stream",
     "text": [
      "D:\\SOFTWARES\\Anaconda\\Anaconda1\\lib\\site-packages\\numba\\core\\ir_utils.py:2147: NumbaPendingDeprecationWarning: \u001b[1m\n",
      "Encountered the use of a type that is scheduled for deprecation: type 'reflected list' found for argument 'B' of function 'L96_Rk4_integrate_stochastic_model'.\n",
      "\n",
      "For more information visit https://numba.readthedocs.io/en/stable/reference/deprecation.html#deprecation-of-reflection-for-list-and-set-types\n",
      "\u001b[1m\n",
      "File \"..\\..\\..\\..\\..\\..\\..\\AppData\\Local\\Temp\\ipykernel_13720\\2133115902.py\", line 10:\u001b[0m\n",
      "\u001b[1m<source missing, REPL/exec in use?>\u001b[0m\n",
      "\u001b[0m\n",
      "  warnings.warn(NumbaPendingDeprecationWarning(msg, loc=loc))\n"
     ]
    }
   ],
   "source": [
    "X_determistic1 = L96_Rk4_integrate_stochastic_model(T, K, ts_model, h, b, c, F, B, 0, 0)"
   ]
  },
  {
   "cell_type": "code",
   "execution_count": 43,
   "id": "aa41d383",
   "metadata": {},
   "outputs": [
    {
     "name": "stderr",
     "output_type": "stream",
     "text": [
      "C:\\Users\\abhil\\AppData\\Local\\Temp\\ipykernel_13720\\2133115902.py:1: NumbaWarning: \u001b[1m\n",
      "Compilation is falling back to object mode WITH looplifting enabled because Function \"L96_Rk4_integrate_stochastic_model\" failed type inference due to: \u001b[1m\u001b[1m\u001b[1mNo implementation of function Function(<built-in function zeros>) found for signature:\n",
      " \n",
      " >>> zeros(list(int64)<iv=None>)\n",
      " \n",
      "There are 2 candidate implementations:\n",
      "\u001b[1m      - Of which 2 did not match due to:\n",
      "      Overload in function 'ol_np_zeros': File: numba\\np\\arrayobj.py: Line 4164.\n",
      "        With argument(s): '(list(int64)<iv=None>)':\u001b[0m\n",
      "\u001b[1m       Rejected as the implementation raised a specific error:\n",
      "         TypingError: Failed in nopython mode pipeline (step: nopython frontend)\n",
      "       \u001b[1m\u001b[1m\u001b[1mNo implementation of function Function(<built-in function empty>) found for signature:\n",
      "        \n",
      "        >>> empty(list(int64)<iv=None>, dtype=Function(<class 'float'>))\n",
      "        \n",
      "       There are 2 candidate implementations:\n",
      "       \u001b[1m      - Of which 2 did not match due to:\n",
      "             Overload in function 'ol_np_empty': File: numba\\np\\arrayobj.py: Line 4086.\n",
      "               With argument(s): '(list(int64)<iv=None>, dtype=Function(<class 'float'>))':\u001b[0m\n",
      "       \u001b[1m       Rejected as the implementation raised a specific error:\n",
      "                TypingError: \u001b[1mCannot parse input types to function np.empty(list(int64)<iv=None>, Function(<class 'float'>))\u001b[0m\u001b[0m\n",
      "         raised from D:\\SOFTWARES\\Anaconda\\Anaconda1\\lib\\site-packages\\numba\\np\\arrayobj.py:4105\n",
      "       \u001b[0m\n",
      "       \u001b[0m\u001b[1mDuring: resolving callee type: Function(<built-in function empty>)\u001b[0m\n",
      "       \u001b[0m\u001b[1mDuring: typing of call at D:\\SOFTWARES\\Anaconda\\Anaconda1\\lib\\site-packages\\numba\\np\\arrayobj.py (4169)\n",
      "       \u001b[0m\n",
      "       \u001b[1m\n",
      "       File \"D:\\SOFTWARES\\Anaconda\\Anaconda1\\lib\\site-packages\\numba\\np\\arrayobj.py\", line 4169:\u001b[0m\n",
      "       \u001b[1m    def impl(shape, dtype=float):\n",
      "       \u001b[1m        arr = np.empty(shape, dtype=dtype)\n",
      "       \u001b[0m        \u001b[1m^\u001b[0m\u001b[0m\n",
      "\u001b[0m\n",
      "  raised from D:\\SOFTWARES\\Anaconda\\Anaconda1\\lib\\site-packages\\numba\\core\\typeinfer.py:1086\n",
      "\u001b[0m\n",
      "\u001b[0m\u001b[1mDuring: resolving callee type: Function(<built-in function zeros>)\u001b[0m\n",
      "\u001b[0m\u001b[1mDuring: typing of call at C:\\Users\\abhil\\AppData\\Local\\Temp\\ipykernel_13720\\2133115902.py (3)\n",
      "\u001b[0m\n",
      "\u001b[1m\n",
      "File \"..\\..\\..\\..\\..\\..\\..\\AppData\\Local\\Temp\\ipykernel_13720\\2133115902.py\", line 3:\u001b[0m\n",
      "\u001b[1m<source missing, REPL/exec in use?>\u001b[0m\n",
      "\u001b[0m\n",
      "  @jit\n",
      "C:\\Users\\abhil\\AppData\\Local\\Temp\\ipykernel_13720\\2133115902.py:1: NumbaWarning: \u001b[1m\n",
      "Compilation is falling back to object mode WITHOUT looplifting enabled because Function \"L96_Rk4_integrate_stochastic_model\" failed type inference due to: \u001b[1m\u001b[1mCannot determine Numba type of <class 'numba.core.dispatcher.LiftedLoop'>\u001b[0m\n",
      "\u001b[1m\n",
      "File \"..\\..\\..\\..\\..\\..\\..\\AppData\\Local\\Temp\\ipykernel_13720\\2133115902.py\", line 10:\u001b[0m\n",
      "\u001b[1m<source missing, REPL/exec in use?>\u001b[0m\n",
      "\u001b[0m\u001b[0m\n",
      "  @jit\n",
      "D:\\SOFTWARES\\Anaconda\\Anaconda1\\lib\\site-packages\\numba\\core\\object_mode_passes.py:151: NumbaWarning: \u001b[1mFunction \"L96_Rk4_integrate_stochastic_model\" was compiled in object mode without forceobj=True, but has lifted loops.\n",
      "\u001b[1m\n",
      "File \"..\\..\\..\\..\\..\\..\\..\\AppData\\Local\\Temp\\ipykernel_13720\\2133115902.py\", line 3:\u001b[0m\n",
      "\u001b[1m<source missing, REPL/exec in use?>\u001b[0m\n",
      "\u001b[0m\n",
      "  warnings.warn(errors.NumbaWarning(warn_msg,\n",
      "D:\\SOFTWARES\\Anaconda\\Anaconda1\\lib\\site-packages\\numba\\core\\object_mode_passes.py:161: NumbaDeprecationWarning: \u001b[1m\n",
      "Fall-back from the nopython compilation path to the object mode compilation path has been detected, this is deprecated behaviour.\n",
      "\n",
      "For more information visit https://numba.readthedocs.io/en/stable/reference/deprecation.html#deprecation-of-object-mode-fall-back-behaviour-when-using-jit\n",
      "\u001b[1m\n",
      "File \"..\\..\\..\\..\\..\\..\\..\\AppData\\Local\\Temp\\ipykernel_13720\\2133115902.py\", line 3:\u001b[0m\n",
      "\u001b[1m<source missing, REPL/exec in use?>\u001b[0m\n",
      "\u001b[0m\n",
      "  warnings.warn(errors.NumbaDeprecationWarning(msg,\n",
      "D:\\SOFTWARES\\Anaconda\\Anaconda1\\lib\\site-packages\\numba\\core\\ir_utils.py:2147: NumbaPendingDeprecationWarning: \u001b[1m\n",
      "Encountered the use of a type that is scheduled for deprecation: type 'reflected list' found for argument 'B' of function 'L96_Rk4_integrate_stochastic_model'.\n",
      "\n",
      "For more information visit https://numba.readthedocs.io/en/stable/reference/deprecation.html#deprecation-of-reflection-for-list-and-set-types\n",
      "\u001b[1m\n",
      "File \"..\\..\\..\\..\\..\\..\\..\\AppData\\Local\\Temp\\ipykernel_13720\\2133115902.py\", line 10:\u001b[0m\n",
      "\u001b[1m<source missing, REPL/exec in use?>\u001b[0m\n",
      "\u001b[0m\n",
      "  warnings.warn(NumbaPendingDeprecationWarning(msg, loc=loc))\n"
     ]
    },
    {
     "name": "stdout",
     "output_type": "stream",
     "text": [
      "alloted memory for X_arr_model\n"
     ]
    }
   ],
   "source": [
    "X_white1 = L96_Rk4_integrate_stochastic_model(T, K, ts_model, h, b, c, F, B, 0, sd)"
   ]
  },
  {
   "cell_type": "code",
   "execution_count": 44,
   "id": "ce3525aa",
   "metadata": {
    "scrolled": true
   },
   "outputs": [
    {
     "name": "stderr",
     "output_type": "stream",
     "text": [
      "C:\\Users\\abhil\\AppData\\Local\\Temp\\ipykernel_13720\\2133115902.py:1: NumbaWarning: \u001b[1m\n",
      "Compilation is falling back to object mode WITH looplifting enabled because Function \"L96_Rk4_integrate_stochastic_model\" failed type inference due to: \u001b[1m\u001b[1m\u001b[1mNo implementation of function Function(<built-in function zeros>) found for signature:\n",
      " \n",
      " >>> zeros(list(int64)<iv=None>)\n",
      " \n",
      "There are 2 candidate implementations:\n",
      "\u001b[1m      - Of which 2 did not match due to:\n",
      "      Overload in function 'ol_np_zeros': File: numba\\np\\arrayobj.py: Line 4164.\n",
      "        With argument(s): '(list(int64)<iv=None>)':\u001b[0m\n",
      "\u001b[1m       Rejected as the implementation raised a specific error:\n",
      "         TypingError: Failed in nopython mode pipeline (step: nopython frontend)\n",
      "       \u001b[1m\u001b[1m\u001b[1mNo implementation of function Function(<built-in function empty>) found for signature:\n",
      "        \n",
      "        >>> empty(list(int64)<iv=None>, dtype=Function(<class 'float'>))\n",
      "        \n",
      "       There are 2 candidate implementations:\n",
      "       \u001b[1m      - Of which 2 did not match due to:\n",
      "             Overload in function 'ol_np_empty': File: numba\\np\\arrayobj.py: Line 4086.\n",
      "               With argument(s): '(list(int64)<iv=None>, dtype=Function(<class 'float'>))':\u001b[0m\n",
      "       \u001b[1m       Rejected as the implementation raised a specific error:\n",
      "                TypingError: \u001b[1mCannot parse input types to function np.empty(list(int64)<iv=None>, Function(<class 'float'>))\u001b[0m\u001b[0m\n",
      "         raised from D:\\SOFTWARES\\Anaconda\\Anaconda1\\lib\\site-packages\\numba\\np\\arrayobj.py:4105\n",
      "       \u001b[0m\n",
      "       \u001b[0m\u001b[1mDuring: resolving callee type: Function(<built-in function empty>)\u001b[0m\n",
      "       \u001b[0m\u001b[1mDuring: typing of call at D:\\SOFTWARES\\Anaconda\\Anaconda1\\lib\\site-packages\\numba\\np\\arrayobj.py (4169)\n",
      "       \u001b[0m\n",
      "       \u001b[1m\n",
      "       File \"D:\\SOFTWARES\\Anaconda\\Anaconda1\\lib\\site-packages\\numba\\np\\arrayobj.py\", line 4169:\u001b[0m\n",
      "       \u001b[1m    def impl(shape, dtype=float):\n",
      "       \u001b[1m        arr = np.empty(shape, dtype=dtype)\n",
      "       \u001b[0m        \u001b[1m^\u001b[0m\u001b[0m\n",
      "\u001b[0m\n",
      "  raised from D:\\SOFTWARES\\Anaconda\\Anaconda1\\lib\\site-packages\\numba\\core\\typeinfer.py:1086\n",
      "\u001b[0m\n",
      "\u001b[0m\u001b[1mDuring: resolving callee type: Function(<built-in function zeros>)\u001b[0m\n",
      "\u001b[0m\u001b[1mDuring: typing of call at C:\\Users\\abhil\\AppData\\Local\\Temp\\ipykernel_13720\\2133115902.py (3)\n",
      "\u001b[0m\n",
      "\u001b[1m\n",
      "File \"..\\..\\..\\..\\..\\..\\..\\AppData\\Local\\Temp\\ipykernel_13720\\2133115902.py\", line 3:\u001b[0m\n",
      "\u001b[1m<source missing, REPL/exec in use?>\u001b[0m\n",
      "\u001b[0m\n",
      "  @jit\n",
      "C:\\Users\\abhil\\AppData\\Local\\Temp\\ipykernel_13720\\2133115902.py:1: NumbaWarning: \u001b[1m\n",
      "Compilation is falling back to object mode WITHOUT looplifting enabled because Function \"L96_Rk4_integrate_stochastic_model\" failed type inference due to: \u001b[1m\u001b[1mCannot determine Numba type of <class 'numba.core.dispatcher.LiftedLoop'>\u001b[0m\n",
      "\u001b[1m\n",
      "File \"..\\..\\..\\..\\..\\..\\..\\AppData\\Local\\Temp\\ipykernel_13720\\2133115902.py\", line 10:\u001b[0m\n",
      "\u001b[1m<source missing, REPL/exec in use?>\u001b[0m\n",
      "\u001b[0m\u001b[0m\n",
      "  @jit\n",
      "D:\\SOFTWARES\\Anaconda\\Anaconda1\\lib\\site-packages\\numba\\core\\object_mode_passes.py:151: NumbaWarning: \u001b[1mFunction \"L96_Rk4_integrate_stochastic_model\" was compiled in object mode without forceobj=True, but has lifted loops.\n",
      "\u001b[1m\n",
      "File \"..\\..\\..\\..\\..\\..\\..\\AppData\\Local\\Temp\\ipykernel_13720\\2133115902.py\", line 3:\u001b[0m\n",
      "\u001b[1m<source missing, REPL/exec in use?>\u001b[0m\n",
      "\u001b[0m\n",
      "  warnings.warn(errors.NumbaWarning(warn_msg,\n",
      "D:\\SOFTWARES\\Anaconda\\Anaconda1\\lib\\site-packages\\numba\\core\\object_mode_passes.py:161: NumbaDeprecationWarning: \u001b[1m\n",
      "Fall-back from the nopython compilation path to the object mode compilation path has been detected, this is deprecated behaviour.\n",
      "\n",
      "For more information visit https://numba.readthedocs.io/en/stable/reference/deprecation.html#deprecation-of-object-mode-fall-back-behaviour-when-using-jit\n",
      "\u001b[1m\n",
      "File \"..\\..\\..\\..\\..\\..\\..\\AppData\\Local\\Temp\\ipykernel_13720\\2133115902.py\", line 3:\u001b[0m\n",
      "\u001b[1m<source missing, REPL/exec in use?>\u001b[0m\n",
      "\u001b[0m\n",
      "  warnings.warn(errors.NumbaDeprecationWarning(msg,\n",
      "D:\\SOFTWARES\\Anaconda\\Anaconda1\\lib\\site-packages\\numba\\core\\ir_utils.py:2147: NumbaPendingDeprecationWarning: \u001b[1m\n",
      "Encountered the use of a type that is scheduled for deprecation: type 'reflected list' found for argument 'B' of function 'L96_Rk4_integrate_stochastic_model'.\n",
      "\n",
      "For more information visit https://numba.readthedocs.io/en/stable/reference/deprecation.html#deprecation-of-reflection-for-list-and-set-types\n",
      "\u001b[1m\n",
      "File \"..\\..\\..\\..\\..\\..\\..\\AppData\\Local\\Temp\\ipykernel_13720\\2133115902.py\", line 10:\u001b[0m\n",
      "\u001b[1m<source missing, REPL/exec in use?>\u001b[0m\n",
      "\u001b[0m\n",
      "  warnings.warn(NumbaPendingDeprecationWarning(msg, loc=loc))\n"
     ]
    },
    {
     "name": "stdout",
     "output_type": "stream",
     "text": [
      "alloted memory for X_arr_model\n"
     ]
    }
   ],
   "source": [
    "X_red1 = L96_Rk4_integrate_stochastic_model(T, K, ts_model, h, b, c, F, B, phi, sd)"
   ]
  },
  {
   "cell_type": "code",
   "execution_count": null,
   "id": "8e639ec0",
   "metadata": {},
   "outputs": [],
   "source": [
    "L96_integrate_stochastic_model(T,K,ts_model,h,b,c,F,B, phi, sd)"
   ]
  },
  {
   "cell_type": "code",
   "execution_count": null,
   "id": "4e16372b",
   "metadata": {},
   "outputs": [],
   "source": [
    "L96_integrate_stochastic_model(T,K,ts_model,h,b,c,F,B, 0, 0)"
   ]
  },
  {
   "cell_type": "code",
   "execution_count": 30,
   "id": "b08ae7d1",
   "metadata": {},
   "outputs": [
    {
     "name": "stderr",
     "output_type": "stream",
     "text": [
      "C:\\Users\\abhil\\AppData\\Local\\Temp\\ipykernel_7304\\2099268280.py:1: NumbaWarning: \u001b[1m\n",
      "Compilation is falling back to object mode WITH looplifting enabled because Function \"L96_integrate_stochastic_model\" failed type inference due to: \u001b[1m\u001b[1m\u001b[1mNo implementation of function Function(<built-in function zeros>) found for signature:\n",
      " \n",
      " >>> zeros(list(int64)<iv=None>)\n",
      " \n",
      "There are 2 candidate implementations:\n",
      "\u001b[1m    - Of which 2 did not match due to:\n",
      "    Overload in function 'ol_np_zeros': File: numba\\np\\arrayobj.py: Line 4164.\n",
      "      With argument(s): '(list(int64)<iv=None>)':\u001b[0m\n",
      "\u001b[1m     Rejected as the implementation raised a specific error:\n",
      "       TypingError: Failed in nopython mode pipeline (step: nopython frontend)\n",
      "     \u001b[1m\u001b[1m\u001b[1mNo implementation of function Function(<built-in function empty>) found for signature:\n",
      "      \n",
      "      >>> empty(list(int64)<iv=None>, dtype=Function(<class 'float'>))\n",
      "      \n",
      "     There are 2 candidate implementations:\n",
      "     \u001b[1m      - Of which 2 did not match due to:\n",
      "           Overload in function 'ol_np_empty': File: numba\\np\\arrayobj.py: Line 4086.\n",
      "             With argument(s): '(list(int64)<iv=None>, dtype=Function(<class 'float'>))':\u001b[0m\n",
      "     \u001b[1m       Rejected as the implementation raised a specific error:\n",
      "              TypingError: \u001b[1mCannot parse input types to function np.empty(list(int64)<iv=None>, Function(<class 'float'>))\u001b[0m\u001b[0m\n",
      "       raised from D:\\SOFTWARES\\Anaconda\\Anaconda1\\lib\\site-packages\\numba\\np\\arrayobj.py:4105\n",
      "     \u001b[0m\n",
      "     \u001b[0m\u001b[1mDuring: resolving callee type: Function(<built-in function empty>)\u001b[0m\n",
      "     \u001b[0m\u001b[1mDuring: typing of call at D:\\SOFTWARES\\Anaconda\\Anaconda1\\lib\\site-packages\\numba\\np\\arrayobj.py (4169)\n",
      "     \u001b[0m\n",
      "     \u001b[1m\n",
      "     File \"D:\\SOFTWARES\\Anaconda\\Anaconda1\\lib\\site-packages\\numba\\np\\arrayobj.py\", line 4169:\u001b[0m\n",
      "     \u001b[1m    def impl(shape, dtype=float):\n",
      "     \u001b[1m        arr = np.empty(shape, dtype=dtype)\n",
      "     \u001b[0m        \u001b[1m^\u001b[0m\u001b[0m\n",
      "\u001b[0m\n",
      "  raised from D:\\SOFTWARES\\Anaconda\\Anaconda1\\lib\\site-packages\\numba\\core\\typeinfer.py:1086\n",
      "\u001b[0m\n",
      "\u001b[0m\u001b[1mDuring: resolving callee type: Function(<built-in function zeros>)\u001b[0m\n",
      "\u001b[0m\u001b[1mDuring: typing of call at C:\\Users\\abhil\\AppData\\Local\\Temp\\ipykernel_7304\\2099268280.py (3)\n",
      "\u001b[0m\n",
      "\u001b[1m\n",
      "File \"..\\..\\..\\..\\..\\..\\..\\AppData\\Local\\Temp\\ipykernel_7304\\2099268280.py\", line 3:\u001b[0m\n",
      "\u001b[1m<source missing, REPL/exec in use?>\u001b[0m\n",
      "\u001b[0m\n",
      "  @jit\n",
      "C:\\Users\\abhil\\AppData\\Local\\Temp\\ipykernel_7304\\2099268280.py:1: NumbaWarning: \u001b[1m\n",
      "Compilation is falling back to object mode WITHOUT looplifting enabled because Function \"L96_integrate_stochastic_model\" failed type inference due to: \u001b[1m\u001b[1mCannot determine Numba type of <class 'numba.core.dispatcher.LiftedLoop'>\u001b[0m\n",
      "\u001b[1m\n",
      "File \"..\\..\\..\\..\\..\\..\\..\\AppData\\Local\\Temp\\ipykernel_7304\\2099268280.py\", line 10:\u001b[0m\n",
      "\u001b[1m<source missing, REPL/exec in use?>\u001b[0m\n",
      "\u001b[0m\u001b[0m\n",
      "  @jit\n",
      "D:\\SOFTWARES\\Anaconda\\Anaconda1\\lib\\site-packages\\numba\\core\\object_mode_passes.py:151: NumbaWarning: \u001b[1mFunction \"L96_integrate_stochastic_model\" was compiled in object mode without forceobj=True, but has lifted loops.\n",
      "\u001b[1m\n",
      "File \"..\\..\\..\\..\\..\\..\\..\\AppData\\Local\\Temp\\ipykernel_7304\\2099268280.py\", line 3:\u001b[0m\n",
      "\u001b[1m<source missing, REPL/exec in use?>\u001b[0m\n",
      "\u001b[0m\n",
      "  warnings.warn(errors.NumbaWarning(warn_msg,\n",
      "D:\\SOFTWARES\\Anaconda\\Anaconda1\\lib\\site-packages\\numba\\core\\object_mode_passes.py:161: NumbaDeprecationWarning: \u001b[1m\n",
      "Fall-back from the nopython compilation path to the object mode compilation path has been detected, this is deprecated behaviour.\n",
      "\n",
      "For more information visit https://numba.readthedocs.io/en/stable/reference/deprecation.html#deprecation-of-object-mode-fall-back-behaviour-when-using-jit\n",
      "\u001b[1m\n",
      "File \"..\\..\\..\\..\\..\\..\\..\\AppData\\Local\\Temp\\ipykernel_7304\\2099268280.py\", line 3:\u001b[0m\n",
      "\u001b[1m<source missing, REPL/exec in use?>\u001b[0m\n",
      "\u001b[0m\n",
      "  warnings.warn(errors.NumbaDeprecationWarning(msg,\n",
      "D:\\SOFTWARES\\Anaconda\\Anaconda1\\lib\\site-packages\\numba\\core\\ir_utils.py:2147: NumbaPendingDeprecationWarning: \u001b[1m\n",
      "Encountered the use of a type that is scheduled for deprecation: type 'reflected list' found for argument 'B' of function 'L96_integrate_stochastic_model'.\n",
      "\n",
      "For more information visit https://numba.readthedocs.io/en/stable/reference/deprecation.html#deprecation-of-reflection-for-list-and-set-types\n",
      "\u001b[1m\n",
      "File \"..\\..\\..\\..\\..\\..\\..\\AppData\\Local\\Temp\\ipykernel_7304\\2099268280.py\", line 10:\u001b[0m\n",
      "\u001b[1m<source missing, REPL/exec in use?>\u001b[0m\n",
      "\u001b[0m\n",
      "  warnings.warn(NumbaPendingDeprecationWarning(msg, loc=loc))\n"
     ]
    },
    {
     "name": "stdout",
     "output_type": "stream",
     "text": [
      "alloted memory for X_arr_model\n"
     ]
    }
   ],
   "source": [
    "X_d = L96_integrate_stochastic_model(T, K, ts_model, h, b, c, F, B, 0, 0)"
   ]
  },
  {
   "cell_type": "code",
   "execution_count": 32,
   "id": "86a28fa9",
   "metadata": {},
   "outputs": [
    {
     "name": "stderr",
     "output_type": "stream",
     "text": [
      "C:\\Users\\abhil\\AppData\\Local\\Temp\\ipykernel_7304\\2099268280.py:1: NumbaWarning: \u001b[1m\n",
      "Compilation is falling back to object mode WITH looplifting enabled because Function \"L96_integrate_stochastic_model\" failed type inference due to: \u001b[1m\u001b[1m\u001b[1mNo implementation of function Function(<built-in function zeros>) found for signature:\n",
      " \n",
      " >>> zeros(list(int64)<iv=None>)\n",
      " \n",
      "There are 2 candidate implementations:\n",
      "\u001b[1m      - Of which 2 did not match due to:\n",
      "      Overload in function 'ol_np_zeros': File: numba\\np\\arrayobj.py: Line 4164.\n",
      "        With argument(s): '(list(int64)<iv=None>)':\u001b[0m\n",
      "\u001b[1m       Rejected as the implementation raised a specific error:\n",
      "         TypingError: Failed in nopython mode pipeline (step: nopython frontend)\n",
      "       \u001b[1m\u001b[1m\u001b[1mNo implementation of function Function(<built-in function empty>) found for signature:\n",
      "        \n",
      "        >>> empty(list(int64)<iv=None>, dtype=Function(<class 'float'>))\n",
      "        \n",
      "       There are 2 candidate implementations:\n",
      "       \u001b[1m      - Of which 2 did not match due to:\n",
      "             Overload in function 'ol_np_empty': File: numba\\np\\arrayobj.py: Line 4086.\n",
      "               With argument(s): '(list(int64)<iv=None>, dtype=Function(<class 'float'>))':\u001b[0m\n",
      "       \u001b[1m       Rejected as the implementation raised a specific error:\n",
      "                TypingError: \u001b[1mCannot parse input types to function np.empty(list(int64)<iv=None>, Function(<class 'float'>))\u001b[0m\u001b[0m\n",
      "         raised from D:\\SOFTWARES\\Anaconda\\Anaconda1\\lib\\site-packages\\numba\\np\\arrayobj.py:4105\n",
      "       \u001b[0m\n",
      "       \u001b[0m\u001b[1mDuring: resolving callee type: Function(<built-in function empty>)\u001b[0m\n",
      "       \u001b[0m\u001b[1mDuring: typing of call at D:\\SOFTWARES\\Anaconda\\Anaconda1\\lib\\site-packages\\numba\\np\\arrayobj.py (4169)\n",
      "       \u001b[0m\n",
      "       \u001b[1m\n",
      "       File \"D:\\SOFTWARES\\Anaconda\\Anaconda1\\lib\\site-packages\\numba\\np\\arrayobj.py\", line 4169:\u001b[0m\n",
      "       \u001b[1m    def impl(shape, dtype=float):\n",
      "       \u001b[1m        arr = np.empty(shape, dtype=dtype)\n",
      "       \u001b[0m        \u001b[1m^\u001b[0m\u001b[0m\n",
      "\u001b[0m\n",
      "  raised from D:\\SOFTWARES\\Anaconda\\Anaconda1\\lib\\site-packages\\numba\\core\\typeinfer.py:1086\n",
      "\u001b[0m\n",
      "\u001b[0m\u001b[1mDuring: resolving callee type: Function(<built-in function zeros>)\u001b[0m\n",
      "\u001b[0m\u001b[1mDuring: typing of call at C:\\Users\\abhil\\AppData\\Local\\Temp\\ipykernel_7304\\2099268280.py (3)\n",
      "\u001b[0m\n",
      "\u001b[1m\n",
      "File \"..\\..\\..\\..\\..\\..\\..\\AppData\\Local\\Temp\\ipykernel_7304\\2099268280.py\", line 3:\u001b[0m\n",
      "\u001b[1m<source missing, REPL/exec in use?>\u001b[0m\n",
      "\u001b[0m\n",
      "  @jit\n",
      "C:\\Users\\abhil\\AppData\\Local\\Temp\\ipykernel_7304\\2099268280.py:1: NumbaWarning: \u001b[1m\n",
      "Compilation is falling back to object mode WITHOUT looplifting enabled because Function \"L96_integrate_stochastic_model\" failed type inference due to: \u001b[1m\u001b[1mCannot determine Numba type of <class 'numba.core.dispatcher.LiftedLoop'>\u001b[0m\n",
      "\u001b[1m\n",
      "File \"..\\..\\..\\..\\..\\..\\..\\AppData\\Local\\Temp\\ipykernel_7304\\2099268280.py\", line 10:\u001b[0m\n",
      "\u001b[1m<source missing, REPL/exec in use?>\u001b[0m\n",
      "\u001b[0m\u001b[0m\n",
      "  @jit\n",
      "D:\\SOFTWARES\\Anaconda\\Anaconda1\\lib\\site-packages\\numba\\core\\object_mode_passes.py:151: NumbaWarning: \u001b[1mFunction \"L96_integrate_stochastic_model\" was compiled in object mode without forceobj=True, but has lifted loops.\n",
      "\u001b[1m\n",
      "File \"..\\..\\..\\..\\..\\..\\..\\AppData\\Local\\Temp\\ipykernel_7304\\2099268280.py\", line 3:\u001b[0m\n",
      "\u001b[1m<source missing, REPL/exec in use?>\u001b[0m\n",
      "\u001b[0m\n",
      "  warnings.warn(errors.NumbaWarning(warn_msg,\n",
      "D:\\SOFTWARES\\Anaconda\\Anaconda1\\lib\\site-packages\\numba\\core\\object_mode_passes.py:161: NumbaDeprecationWarning: \u001b[1m\n",
      "Fall-back from the nopython compilation path to the object mode compilation path has been detected, this is deprecated behaviour.\n",
      "\n",
      "For more information visit https://numba.readthedocs.io/en/stable/reference/deprecation.html#deprecation-of-object-mode-fall-back-behaviour-when-using-jit\n",
      "\u001b[1m\n",
      "File \"..\\..\\..\\..\\..\\..\\..\\AppData\\Local\\Temp\\ipykernel_7304\\2099268280.py\", line 3:\u001b[0m\n",
      "\u001b[1m<source missing, REPL/exec in use?>\u001b[0m\n",
      "\u001b[0m\n",
      "  warnings.warn(errors.NumbaDeprecationWarning(msg,\n",
      "D:\\SOFTWARES\\Anaconda\\Anaconda1\\lib\\site-packages\\numba\\core\\ir_utils.py:2147: NumbaPendingDeprecationWarning: \u001b[1m\n",
      "Encountered the use of a type that is scheduled for deprecation: type 'reflected list' found for argument 'B' of function 'L96_integrate_stochastic_model'.\n",
      "\n",
      "For more information visit https://numba.readthedocs.io/en/stable/reference/deprecation.html#deprecation-of-reflection-for-list-and-set-types\n",
      "\u001b[1m\n",
      "File \"..\\..\\..\\..\\..\\..\\..\\AppData\\Local\\Temp\\ipykernel_7304\\2099268280.py\", line 10:\u001b[0m\n",
      "\u001b[1m<source missing, REPL/exec in use?>\u001b[0m\n",
      "\u001b[0m\n",
      "  warnings.warn(NumbaPendingDeprecationWarning(msg, loc=loc))\n"
     ]
    },
    {
     "name": "stdout",
     "output_type": "stream",
     "text": [
      "alloted memory for X_arr_model\n"
     ]
    }
   ],
   "source": [
    "X_r = L96_integrate_stochastic_model(T, K, ts_model, h, b, c, F, B, 0.9845, sd)"
   ]
  },
  {
   "cell_type": "code",
   "execution_count": 37,
   "id": "fcaed4ab",
   "metadata": {},
   "outputs": [
    {
     "name": "stdout",
     "output_type": "stream",
     "text": [
      "alloted memory for X_arr_model\n"
     ]
    }
   ],
   "source": [
    "X_r1 = L96_integrate_stochastic_model(T, K, ts_model, h, b, c, F, B, 0.9845*1.5, sd)"
   ]
  },
  {
   "cell_type": "code",
   "execution_count": 40,
   "id": "a0d636e2",
   "metadata": {},
   "outputs": [
    {
     "name": "stdout",
     "output_type": "stream",
     "text": [
      "alloted memory for X_arr_model\n"
     ]
    }
   ],
   "source": [
    "X_r2 = L96_integrate_stochastic_model(T, K, ts_model, h, b, c, F, B, 0.75, sd)"
   ]
  },
  {
   "cell_type": "code",
   "execution_count": null,
   "id": "c8a2150c",
   "metadata": {},
   "outputs": [],
   "source": []
  },
  {
   "cell_type": "code",
   "execution_count": 108,
   "id": "811b15fa",
   "metadata": {},
   "outputs": [
    {
     "data": {
      "image/png": "[encoded data removed]",
      "text/plain": [
       "<Figure size 640x480 with 1 Axes>"
      ]
     },
     "metadata": {},
     "output_type": "display_data"
    }
   ],
   "source": [
    "plt.hist(X_determistic[:,0],bins = np.linspace(-10,15,5000))\n",
    "plt.xlabel('Resolved Variable X3')\n",
    "plt.ylabel('frequency of X3')\n",
    "plt.savefig('frequency_X_deterministic.png')"
   ]
  },
  {
   "cell_type": "code",
   "execution_count": 109,
   "id": "25b71963",
   "metadata": {},
   "outputs": [
    {
     "data": {
      "image/png": "[encoded data removed]",
      "text/plain": [
       "<Figure size 640x480 with 1 Axes>"
      ]
     },
     "metadata": {},
     "output_type": "display_data"
    }
   ],
   "source": [
    "plt.hist(X_white[:,0],bins = np.linspace(-10,15,5000))\n",
    "plt.xlabel('Resolved Variable X3')\n",
    "plt.ylabel('frequency of X3')\n",
    "plt.savefig('frequency_X_white.png')"
   ]
  },
  {
   "cell_type": "code",
   "execution_count": 110,
   "id": "5ce9d5a0",
   "metadata": {},
   "outputs": [
    {
     "data": {
      "image/png": "[encoded data removed]",
      "text/plain": [
       "<Figure size 640x480 with 1 Axes>"
      ]
     },
     "metadata": {},
     "output_type": "display_data"
    }
   ],
   "source": [
    "plt.hist(X_red[:,0],bins = np.linspace(-10,15,5000))\n",
    "plt.xlabel('Resolved Variable X3')\n",
    "plt.ylabel('frequency of X3')\n",
    "plt.savefig('frequency_X_red.png')"
   ]
  },
  {
   "cell_type": "code",
   "execution_count": null,
   "id": "6fac99b1",
   "metadata": {},
   "outputs": [],
   "source": []
  },
  {
   "cell_type": "code",
   "execution_count": null,
   "id": "3c990e8a",
   "metadata": {},
   "outputs": [],
   "source": []
  },
  {
   "cell_type": "code",
   "execution_count": null,
   "id": "1e0b1edf",
   "metadata": {},
   "outputs": [],
   "source": []
  },
  {
   "cell_type": "markdown",
   "id": "044f69d0",
   "metadata": {},
   "source": [
    "### Dn Statistics"
   ]
  },
  {
   "cell_type": "code",
   "execution_count": 33,
   "id": "40860a54",
   "metadata": {},
   "outputs": [],
   "source": [
    "def Dn(X_model, X_truth, b_low, b_up, num_of_bars):\n",
    "    \n",
    "    width = (b_up - b_low)/num_of_bars\n",
    "    \n",
    "    X_truth_hist, bins = np.histogram(X_truth,bins = np.linspace(b_low,b_up,num_of_bars))\n",
    "    X_model_hist, bins = np.histogram(X_model,bins = np.linspace(b_low,b_up,num_of_bars))\n",
    "    \n",
    "    \n",
    "    maxi = 0\n",
    "    Area_truth = 0\n",
    "    Area_model = 0\n",
    "    for i in range(len(X_truth_hist)-1):\n",
    "        Area_truth += width*X_truth_hist[i]\n",
    "        Area_model += width*X_model_hist[i]\n",
    "        maxi = max(maxi, abs(Area_truth - Area_model))\n",
    "        \n",
    "    return maxi/(len(X_truth)*width)"
   ]
  },
  {
   "cell_type": "code",
   "execution_count": 34,
   "id": "c3dac6d8",
   "metadata": {},
   "outputs": [],
   "source": [
    "b_low, b_up, num_of_bars = -15,20,500000\n",
    "width = (b_up - b_low)/num_of_bars"
   ]
  },
  {
   "cell_type": "code",
   "execution_count": 47,
   "id": "a67deb68",
   "metadata": {},
   "outputs": [],
   "source": [
    "Dn_deter = Dn(X_determistic[:,0], X_arr[:,0], b_low, b_up, num_of_bars)"
   ]
  },
  {
   "cell_type": "code",
   "execution_count": 48,
   "id": "c1ea4a53",
   "metadata": {},
   "outputs": [],
   "source": [
    "Dn_white = Dn(X_white[:,0], X_arr[:,0], b_low, b_up, num_of_bars)"
   ]
  },
  {
   "cell_type": "code",
   "execution_count": 49,
   "id": "1ffc4ef5",
   "metadata": {},
   "outputs": [],
   "source": [
    "Dn_red = Dn(X_red[:,3], X_arr[:,3], b_low, b_up, num_of_bars)"
   ]
  },
  {
   "cell_type": "code",
   "execution_count": 50,
   "id": "51857688",
   "metadata": {
    "scrolled": true
   },
   "outputs": [
    {
     "data": {
      "text/plain": [
       "(0.014460227272735587, 0.014865909090920252, 0.0150260000000127)"
      ]
     },
     "execution_count": 50,
     "metadata": {},
     "output_type": "execute_result"
    }
   ],
   "source": [
    "Dn_deter, Dn_white, Dn_red"
   ]
  },
  {
   "cell_type": "code",
   "execution_count": null,
   "id": "893ef687",
   "metadata": {},
   "outputs": [],
   "source": []
  },
  {
   "cell_type": "code",
   "execution_count": 51,
   "id": "cbf8f3c3",
   "metadata": {},
   "outputs": [],
   "source": [
    "Dn_deter1 = Dn(X_determistic1[:,0], X_arr[:,0], b_low, b_up, num_of_bars)\n",
    "Dn_white1 = Dn(X_white1[:,0], X_arr[:,0], b_low, b_up, num_of_bars)\n",
    "Dn_red1 = Dn(X_red1[:,3], X_arr[:,3], b_low, b_up, num_of_bars)"
   ]
  },
  {
   "cell_type": "code",
   "execution_count": 52,
   "id": "4cbab009",
   "metadata": {},
   "outputs": [
    {
     "data": {
      "text/plain": [
       "(0.01470009090909373, 0.01473318181819027, 0.014711136363652786)"
      ]
     },
     "execution_count": 52,
     "metadata": {},
     "output_type": "execute_result"
    }
   ],
   "source": [
    "Dn_deter1, Dn_white1, Dn_red1"
   ]
  },
  {
   "cell_type": "code",
   "execution_count": null,
   "id": "62bc9c1c",
   "metadata": {},
   "outputs": [],
   "source": []
  },
  {
   "cell_type": "code",
   "execution_count": 35,
   "id": "52bd21c5",
   "metadata": {},
   "outputs": [],
   "source": [
    "Dn_d = Dn(X_d[:,0], X_arr[:,0], b_low, b_up, num_of_bars)\n",
    "Dn_r = Dn(X_r[:,0], X_arr[:,0], b_low, b_up, num_of_bars)"
   ]
  },
  {
   "cell_type": "code",
   "execution_count": 43,
   "id": "2803c812",
   "metadata": {},
   "outputs": [
    {
     "data": {
      "text/plain": [
       "(0.014460227272735587,\n",
       " 0.014177681818197747,\n",
       " 1.0000000000006766,\n",
       " 0.014558000000017479)"
      ]
     },
     "execution_count": 43,
     "metadata": {},
     "output_type": "execute_result"
    }
   ],
   "source": [
    "Dn_d, Dn_r, Dn_r1, Dn_r2"
   ]
  },
  {
   "cell_type": "code",
   "execution_count": 38,
   "id": "0c8c9cfb",
   "metadata": {},
   "outputs": [],
   "source": [
    "Dn_r1 = Dn(X_r1[:,0], X_arr[:,0], b_low, b_up, num_of_bars)"
   ]
  },
  {
   "cell_type": "code",
   "execution_count": 41,
   "id": "71581c45",
   "metadata": {},
   "outputs": [],
   "source": [
    "Dn_r2 = Dn(X_r2[:,0], X_arr[:,0], b_low, b_up, num_of_bars)"
   ]
  },
  {
   "cell_type": "code",
   "execution_count": 53,
   "id": "24315420",
   "metadata": {},
   "outputs": [],
   "source": [
    "Dn_deter_using_integral = Dn(X_arr_model[:,0], X_arr[:,0], b_low, b_up, num_of_bars)"
   ]
  },
  {
   "cell_type": "code",
   "execution_count": 54,
   "id": "bbb8d036",
   "metadata": {},
   "outputs": [
    {
     "data": {
      "text/plain": [
       "0.014460227272735587"
      ]
     },
     "execution_count": 54,
     "metadata": {},
     "output_type": "execute_result"
    }
   ],
   "source": [
    "Dn_deter_using_integral"
   ]
  },
  {
   "cell_type": "code",
   "execution_count": 56,
   "id": "351d4bfc",
   "metadata": {},
   "outputs": [
    {
     "name": "stdout",
     "output_type": "stream",
     "text": [
      "alloted memory for X_arr_model\n"
     ]
    },
    {
     "ename": "KeyboardInterrupt",
     "evalue": "",
     "output_type": "error",
     "traceback": [
      "\u001b[1;31m---------------------------------------------------------------------------\u001b[0m",
      "\u001b[1;31mKeyboardInterrupt\u001b[0m                         Traceback (most recent call last)",
      "Cell \u001b[1;32mIn[56], line 1\u001b[0m\n\u001b[1;32m----> 1\u001b[0m X_red2 \u001b[38;5;241m=\u001b[39m L96_Rk4_integrate_stochastic_model(T, K, ts_model, h, b, c, F, B, phi\u001b[38;5;241m*\u001b[39m\u001b[38;5;241m1.1\u001b[39m, sd\u001b[38;5;241m*\u001b[39m\u001b[38;5;241m1.5\u001b[39m)\n",
      "\u001b[1;31mKeyboardInterrupt\u001b[0m: "
     ]
    }
   ],
   "source": [
    "X_red2 = L96_Rk4_integrate_stochastic_model(T, K, ts_model, h, b, c, F, B, phi*1.1, sd*1.5)"
   ]
  },
  {
   "cell_type": "code",
   "execution_count": null,
   "id": "d1a9b77c",
   "metadata": {},
   "outputs": [],
   "source": []
  },
  {
   "cell_type": "code",
   "execution_count": null,
   "id": "94674e23",
   "metadata": {},
   "outputs": [],
   "source": [
    "num_pts1 = 30\n",
    "num_pts2 = 20\n",
    "phi_arr = np.linspace(0,1, num_pts1)\n",
    "sd_arr = np.linspace(0,2.5*sd, num_pts2)\n",
    "for i in range(num_pts1):\n",
    "    for j in range(num_pts2):\n",
    "        phi = phi_arr[i]\n",
    "        sd = sd_arr[j]\n",
    "        X_red = L96_integrate_stochastic_model(T, K, ts_model, h, b, c, F, B, phi, sd)\n",
    "        file1 = 'X_arr_red.npz'\n",
    "        file2 = 'X_arr_phi_sd.npz'\n",
    "        var1 = 'X_red' +'_'+ str(i)+ '_'+ str(j)\n",
    "        var2 = 'X_red' +'_'+ str(phi)+ '_'+ str(sd)\n",
    "        var_name1 = globals()[var1]\n",
    "        var_name2 = globals()[var2]\n",
    "        np.savez(file1, var_name1 = X_red)\n",
    "        np.savez(file2, var_name2 = X_red)\n",
    "        \n",
    "    print(i)"
   ]
  },
  {
   "cell_type": "markdown",
   "id": "49a1729d",
   "metadata": {},
   "source": [
    "## REGRESSION ANALYSIS"
   ]
  },
  {
   "cell_type": "code",
   "execution_count": 67,
   "id": "9fd91ffd",
   "metadata": {},
   "outputs": [],
   "source": [
    "m = 0\n",
    "n = 2200\n",
    "k = 3\n",
    "\n",
    "X_train = np.zeros([n - m, 4])\n",
    "X_train[:,0] = X_fit[m:n,k]\n",
    "X_train[:,1] = X_fit[m:n,k]**2\n",
    "X_train[:,2] = X_fit[m:n,k]**3\n",
    "X_train[:,3] = X_fit[m:n,k]**4\n",
    "\n",
    "Y_train = U[m:n,k]"
   ]
  },
  {
   "cell_type": "code",
   "execution_count": 68,
   "id": "01a0ef2e",
   "metadata": {
    "scrolled": true
   },
   "outputs": [
    {
     "data": {
      "text/html": [
       "<style>#sk-container-id-2 {color: black;background-color: white;}#sk-container-id-2 pre{padding: 0;}#sk-container-id-2 div.sk-toggleable {background-color: white;}#sk-container-id-2 label.sk-toggleable__label {cursor: pointer;display: block;width: 100%;margin-bottom: 0;padding: 0.3em;box-sizing: border-box;text-align: center;}#sk-container-id-2 label.sk-toggleable__label-arrow:before {content: \"▸\";float: left;margin-right: 0.25em;color: #696969;}#sk-container-id-2 label.sk-toggleable__label-arrow:hover:before {color: black;}#sk-container-id-2 div.sk-estimator:hover label.sk-toggleable__label-arrow:before {color: black;}#sk-container-id-2 div.sk-toggleable__content {max-height: 0;max-width: 0;overflow: hidden;text-align: left;background-color: #f0f8ff;}#sk-container-id-2 div.sk-toggleable__content pre {margin: 0.2em;color: black;border-radius: 0.25em;background-color: #f0f8ff;}#sk-container-id-2 input.sk-toggleable__control:checked~div.sk-toggleable__content {max-height: 200px;max-width: 100%;overflow: auto;}#sk-container-id-2 input.sk-toggleable__control:checked~label.sk-toggleable__label-arrow:before {content: \"▾\";}#sk-container-id-2 div.sk-estimator input.sk-toggleable__control:checked~label.sk-toggleable__label {background-color: #d4ebff;}#sk-container-id-2 div.sk-label input.sk-toggleable__control:checked~label.sk-toggleable__label {background-color: #d4ebff;}#sk-container-id-2 input.sk-hidden--visually {border: 0;clip: rect(1px 1px 1px 1px);clip: rect(1px, 1px, 1px, 1px);height: 1px;margin: -1px;overflow: hidden;padding: 0;position: absolute;width: 1px;}#sk-container-id-2 div.sk-estimator {font-family: monospace;background-color: #f0f8ff;border: 1px dotted black;border-radius: 0.25em;box-sizing: border-box;margin-bottom: 0.5em;}#sk-container-id-2 div.sk-estimator:hover {background-color: #d4ebff;}#sk-container-id-2 div.sk-parallel-item::after {content: \"\";width: 100%;border-bottom: 1px solid gray;flex-grow: 1;}#sk-container-id-2 div.sk-label:hover label.sk-toggleable__label {background-color: #d4ebff;}#sk-container-id-2 div.sk-serial::before {content: \"\";position: absolute;border-left: 1px solid gray;box-sizing: border-box;top: 0;bottom: 0;left: 50%;z-index: 0;}#sk-container-id-2 div.sk-serial {display: flex;flex-direction: column;align-items: center;background-color: white;padding-right: 0.2em;padding-left: 0.2em;position: relative;}#sk-container-id-2 div.sk-item {position: relative;z-index: 1;}#sk-container-id-2 div.sk-parallel {display: flex;align-items: stretch;justify-content: center;background-color: white;position: relative;}#sk-container-id-2 div.sk-item::before, #sk-container-id-2 div.sk-parallel-item::before {content: \"\";position: absolute;border-left: 1px solid gray;box-sizing: border-box;top: 0;bottom: 0;left: 50%;z-index: -1;}#sk-container-id-2 div.sk-parallel-item {display: flex;flex-direction: column;z-index: 1;position: relative;background-color: white;}#sk-container-id-2 div.sk-parallel-item:first-child::after {align-self: flex-end;width: 50%;}#sk-container-id-2 div.sk-parallel-item:last-child::after {align-self: flex-start;width: 50%;}#sk-container-id-2 div.sk-parallel-item:only-child::after {width: 0;}#sk-container-id-2 div.sk-dashed-wrapped {border: 1px dashed gray;margin: 0 0.4em 0.5em 0.4em;box-sizing: border-box;padding-bottom: 0.4em;background-color: white;}#sk-container-id-2 div.sk-label label {font-family: monospace;font-weight: bold;display: inline-block;line-height: 1.2em;}#sk-container-id-2 div.sk-label-container {text-align: center;}#sk-container-id-2 div.sk-container {/* jupyter's `normalize.less` sets `[hidden] { display: none; }` but bootstrap.min.css set `[hidden] { display: none !important; }` so we also need the `!important` here to be able to override the default hidden behavior on the sphinx rendered scikit-learn.org. See: https://github.com/scikit-learn/scikit-learn/issues/21755 */display: inline-block !important;position: relative;}#sk-container-id-2 div.sk-text-repr-fallback {display: none;}</style><div id=\"sk-container-id-2\" class=\"sk-top-container\"><div class=\"sk-text-repr-fallback\"><pre>LinearRegression()</pre><b>In a Jupyter environment, please rerun this cell to show the HTML representation or trust the notebook. <br />On GitHub, the HTML representation is unable to render, please try loading this page with nbviewer.org.</b></div><div class=\"sk-container\" hidden><div class=\"sk-item\"><div class=\"sk-estimator sk-toggleable\"><input class=\"sk-toggleable__control sk-hidden--visually\" id=\"sk-estimator-id-2\" type=\"checkbox\" checked><label for=\"sk-estimator-id-2\" class=\"sk-toggleable__label sk-toggleable__label-arrow\">LinearRegression</label><div class=\"sk-toggleable__content\"><pre>LinearRegression()</pre></div></div></div></div></div>"
      ],
      "text/plain": [
       "LinearRegression()"
      ]
     },
     "execution_count": 68,
     "metadata": {},
     "output_type": "execute_result"
    }
   ],
   "source": [
    "reg1 = LinearRegression()\n",
    "reg1.fit(X_train, Y_train)"
   ]
  },
  {
   "cell_type": "code",
   "execution_count": 69,
   "id": "bfc515fb",
   "metadata": {},
   "outputs": [
    {
     "data": {
      "text/plain": [
       "(0.2478317490335633,\n",
       " array([ 1.58561490e+00, -1.74721775e-02, -1.26824108e-02,  7.06495606e-04]))"
      ]
     },
     "execution_count": 69,
     "metadata": {},
     "output_type": "execute_result"
    }
   ],
   "source": [
    "#k = 7\n",
    "reg1.intercept_, reg1.coef_"
   ]
  },
  {
   "cell_type": "code",
   "execution_count": 88,
   "id": "c937a2c1",
   "metadata": {},
   "outputs": [
    {
     "data": {
      "text/plain": [
       "(0.2783522949332822,\n",
       " array([ 1.54818556e+00, -2.02077511e-02, -1.03317939e-02,  5.34024747e-04]))"
      ]
     },
     "execution_count": 88,
     "metadata": {},
     "output_type": "execute_result"
    }
   ],
   "source": [
    "#k = 6\n",
    "reg1.intercept_, reg1.coef_"
   ]
  },
  {
   "cell_type": "code",
   "execution_count": 85,
   "id": "ada62560",
   "metadata": {},
   "outputs": [
    {
     "data": {
      "text/plain": [
       "(0.2987976317523513,\n",
       " array([ 1.54494312e+00, -1.86704126e-02, -1.04969917e-02,  5.46334323e-04]))"
      ]
     },
     "execution_count": 85,
     "metadata": {},
     "output_type": "execute_result"
    }
   ],
   "source": [
    "#k = 5\n",
    "reg1.intercept_, reg1.coef_"
   ]
  },
  {
   "cell_type": "code",
   "execution_count": 82,
   "id": "1bc93aa8",
   "metadata": {},
   "outputs": [
    {
     "data": {
      "text/plain": [
       "(0.26514691950612423,\n",
       " array([ 1.55709797e+00, -1.59446112e-02, -1.12835613e-02,  5.94231559e-04]))"
      ]
     },
     "execution_count": 82,
     "metadata": {},
     "output_type": "execute_result"
    }
   ],
   "source": [
    "#k = 4\n",
    "reg1.intercept_, reg1.coef_"
   ]
  },
  {
   "cell_type": "code",
   "execution_count": 94,
   "id": "40bcbdf2",
   "metadata": {},
   "outputs": [
    {
     "data": {
      "text/plain": [
       "(0.2478317490335633,\n",
       " array([ 1.58561490e+00, -1.74721775e-02, -1.26824108e-02,  7.06495606e-04]))"
      ]
     },
     "execution_count": 94,
     "metadata": {},
     "output_type": "execute_result"
    }
   ],
   "source": [
    "#k = 3\n",
    "reg1.intercept_, reg1.coef_"
   ]
  },
  {
   "cell_type": "code",
   "execution_count": 79,
   "id": "66730c76",
   "metadata": {},
   "outputs": [
    {
     "data": {
      "text/plain": [
       "(0.2614239633210942,\n",
       " array([ 1.56351772e+00, -1.56042646e-02, -1.19061487e-02,  6.36352595e-04]))"
      ]
     },
     "execution_count": 79,
     "metadata": {},
     "output_type": "execute_result"
    }
   ],
   "source": [
    "k = 2\n",
    "reg1.intercept_, reg1.coef_"
   ]
  },
  {
   "cell_type": "code",
   "execution_count": 66,
   "id": "71b55d38",
   "metadata": {},
   "outputs": [
    {
     "data": {
      "text/plain": [
       "(0.2937348737052159,\n",
       " array([ 1.54517240e+00, -2.20766815e-02, -1.00492610e-02,  5.30374299e-04]))"
      ]
     },
     "execution_count": 66,
     "metadata": {},
     "output_type": "execute_result"
    }
   ],
   "source": [
    "#k = 1\n",
    "reg1.intercept_, reg1.coef_"
   ]
  },
  {
   "cell_type": "code",
   "execution_count": 40,
   "id": "010ede2e",
   "metadata": {},
   "outputs": [
    {
     "data": {
      "text/plain": [
       "(2200, 1)"
      ]
     },
     "execution_count": 40,
     "metadata": {},
     "output_type": "execute_result"
    }
   ],
   "source": [
    "np.sum(X_fit[m:n,:], axis = 1, keepdims=True).shape"
   ]
  },
  {
   "cell_type": "code",
   "execution_count": null,
   "id": "301a590e",
   "metadata": {},
   "outputs": [],
   "source": []
  }
 ],
 "metadata": {
  "kernelspec": {
   "display_name": "Python 3 (ipykernel)",
   "language": "python",
   "name": "python3"
  },
  "language_info": {
   "codemirror_mode": {
    "name": "ipython",
    "version": 3
   },
   "file_extension": ".py",
   "mimetype": "text/x-python",
   "name": "python",
   "nbconvert_exporter": "python",
   "pygments_lexer": "ipython3",
   "version": "3.10.9"
  }
 },
 "nbformat": 4,
 "nbformat_minor": 5
}
